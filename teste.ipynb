{
 "cells": [
  {
   "cell_type": "code",
   "execution_count": 2,
   "metadata": {},
   "outputs": [
    {
     "name": "stdout",
     "output_type": "stream",
     "text": [
      "Requirement already satisfied: viacep in c:\\users\\ggsna\\anaconda3\\lib\\site-packages (1.3.1)\n",
      "Requirement already satisfied: requests>=2.9.1 in c:\\users\\ggsna\\anaconda3\\lib\\site-packages (from viacep) (2.32.3)\n",
      "Requirement already satisfied: charset-normalizer<4,>=2 in c:\\users\\ggsna\\anaconda3\\lib\\site-packages (from requests>=2.9.1->viacep) (3.3.2)\n",
      "Requirement already satisfied: idna<4,>=2.5 in c:\\users\\ggsna\\anaconda3\\lib\\site-packages (from requests>=2.9.1->viacep) (3.7)\n",
      "Requirement already satisfied: urllib3<3,>=1.21.1 in c:\\users\\ggsna\\anaconda3\\lib\\site-packages (from requests>=2.9.1->viacep) (1.26.19)\n",
      "Requirement already satisfied: certifi>=2017.4.17 in c:\\users\\ggsna\\anaconda3\\lib\\site-packages (from requests>=2.9.1->viacep) (2024.7.4)\n",
      "Note: you may need to restart the kernel to use updated packages.\n"
     ]
    }
   ],
   "source": [
    "pip install viacep"
   ]
  },
  {
   "cell_type": "code",
   "execution_count": 3,
   "metadata": {},
   "outputs": [],
   "source": [
    "from pprint import pprint\n",
    "import requests\n",
    "import json"
   ]
  },
  {
   "cell_type": "code",
   "execution_count": 4,
   "metadata": {},
   "outputs": [],
   "source": [
    "\n",
    "def getDadosCEP(cep):\n",
    "\t\turl = (f'http://www.viacep.com.br/ws/{cep}/json')\n",
    "\t\t\n",
    "\t\treq = requests.get(url)\n",
    "\t\tif req.status_code == 200:\n",
    "\t\t\tdados_json = json.loads(req.text)\n",
    "\t\t\treturn dados_json\n",
    "\t\telse:\n",
    "\t\t\tprint('Erro ao buscar CEP')"
   ]
  },
  {
   "cell_type": "code",
   "execution_count": 5,
   "metadata": {},
   "outputs": [],
   "source": [
    "from tqdm import tqdm\n",
    "\n",
    "ceps = [\n",
    "    28957768, 28957632, 28957744, 28957624, 28957720, 28957600, 28957728,\n",
    "    28957704, 28957584, 28955830, 28955812, 28957688, 28955818, 28955842,\n",
    "    28955800, 28957544, 28957784, 28957616, 28957640, 28955836, 28957808,\n",
    "    28957832, 28957659, 28957560, 28957592, 28957776, 28957672, 28955824,\n",
    "    28957576, 28957608, 28957490, 28957528, 28955848, 28957552, 28957792,\n",
    "    28957696, 28957864, 28957848, 28957816, 28957800, 28957536, 28957752,\n",
    "    28957568, 28957840, 28957736, 28957872, 28955782, 28957824, 28957680,\n",
    "    28957760, 28954750, 28958580, 28954160, 28954220, 28955495, 28959000,\n",
    "    28955050, 28958720, 28957648, 28950200, 28950785, 28950255, 28950560,\n",
    "    28950288, 28950420, 28950755, 28954735, 28953818, 28953240, 28955626,\n",
    "    28955686, 28955740, 28955578, 28950185, 28950240, 28956160, 28958050,\n",
    "    28958070, 28955560, 28957880, 28954000, 28950800, 28951754, 28951605,\n",
    "    28951610, 28951790, 28956690, 28953814, 28950230, 28950800, 28958330,\n",
    "    28956430, 28954640, 28954785, 28955050, 28951294, 28955770, 28957664,\n",
    "    28958100, 28954350\n",
    "]\n"
   ]
  },
  {
   "cell_type": "code",
   "execution_count": 34,
   "metadata": {},
   "outputs": [
    {
     "name": "stderr",
     "output_type": "stream",
     "text": [
      "100%|██████████| 100/100 [00:48<00:00,  2.05it/s]\n"
     ]
    }
   ],
   "source": [
    "for cep in tqdm(ceps):\n",
    "    data = getDadosCEP(cep)\n"
   ]
  },
  {
   "cell_type": "code",
   "execution_count": 14,
   "metadata": {},
   "outputs": [
    {
     "data": {
      "text/plain": [
       "'Vila Mariana'"
      ]
     },
     "execution_count": 14,
     "metadata": {},
     "output_type": "execute_result"
    }
   ],
   "source": [
    "getDadosCEP('04119010')['bairro']"
   ]
  },
  {
   "cell_type": "code",
   "execution_count": null,
   "metadata": {},
   "outputs": [],
   "source": []
  }
 ],
 "metadata": {
  "kernelspec": {
   "display_name": "base",
   "language": "python",
   "name": "python3"
  },
  "language_info": {
   "codemirror_mode": {
    "name": "ipython",
    "version": 3
   },
   "file_extension": ".py",
   "mimetype": "text/x-python",
   "name": "python",
   "nbconvert_exporter": "python",
   "pygments_lexer": "ipython3",
   "version": "3.9.19"
  }
 },
 "nbformat": 4,
 "nbformat_minor": 2
}
