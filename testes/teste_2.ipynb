{
 "cells": [
  {
   "cell_type": "code",
   "execution_count": 17,
   "metadata": {},
   "outputs": [],
   "source": [
    "import requests\n",
    "from pprint import pprint\n",
    "import bs4\n",
    "import json"
   ]
  },
  {
   "cell_type": "code",
   "execution_count": 24,
   "metadata": {},
   "outputs": [],
   "source": [
    "import requests\n",
    "\n",
    "def get_bounding_box_from_cep(cep):\n",
    "    # Nominatim API URL\n",
    "    nominatim_url = \"https://nominatim.openstreetmap.org/search\"\n",
    "    \n",
    "    # Cabeçalhos com o User-Agent\n",
    "    headers = {\n",
    "        'User-Agent': 'MyGeocodingApp/1.0 (your_email@example.com)'  # Substitua pelo seu e-mail para identificação\n",
    "    }\n",
    "    \n",
    "    # Parâmetros da requisição, incluindo o CEP e formato de resposta\n",
    "    params = {\n",
    "        'q': cep,               # O CEP como consulta\n",
    "        'format': 'json',       # Resposta no formato JSON\n",
    "        'addressdetails': 1     # Incluir detalhes do endereço\n",
    "    }\n",
    "    \n",
    "    # Fazendo a requisição com o cabeçalho User-Agent\n",
    "    response = requests.get(nominatim_url, headers=headers, params=params)\n",
    "    \n",
    "    # Verificando se a requisição foi bem-sucedida\n",
    "    if response.status_code == 200:\n",
    "        data = response.json()\n",
    "        if data:\n",
    "            # Pegando a primeira correspondência (pode haver múltiplos resultados)\n",
    "            result = data[0]\n",
    "            # Extraindo a bounding box\n",
    "            bounding_box = result.get('boundingbox', None)\n",
    "            if bounding_box:\n",
    "                # Criando o dicionário com as direções\n",
    "                bounding_box_dict = {\n",
    "                    \"south\": bounding_box[0],\n",
    "                    \"north\": bounding_box[1],\n",
    "                    \"west\": bounding_box[2],\n",
    "                    \"east\": bounding_box[3]\n",
    "                }\n",
    "                return bounding_box_dict\n",
    "        else:\n",
    "            print(\"Nenhum resultado encontrado para o CEP fornecido.\")\n",
    "            return None\n",
    "    else:\n",
    "        print(f\"Erro na requisição: {response.status_code}\")\n",
    "        return None\n",
    "\n"
   ]
  },
  {
   "cell_type": "code",
   "execution_count": 26,
   "metadata": {},
   "outputs": [],
   "source": [
    "dic = get_bounding_box_from_cep('04078012')"
   ]
  },
  {
   "cell_type": "code",
   "execution_count": 27,
   "metadata": {},
   "outputs": [],
   "source": [
    "def get_average_lat_lon(dict):\n",
    "    # Calculando a média das latitudes e longitudes\n",
    "    lat = (float(dict['south']) + float(dict['north'])) / 2\n",
    "    lon = (float(dict['west']) + float(dict['east'])) / 2\n",
    "    return lat, lon"
   ]
  },
  {
   "cell_type": "code",
   "execution_count": 28,
   "metadata": {},
   "outputs": [
    {
     "data": {
      "text/plain": [
       "(-23.6082898, -46.65553920000001)"
      ]
     },
     "execution_count": 28,
     "metadata": {},
     "output_type": "execute_result"
    }
   ],
   "source": [
    "get_average_lat_lon(dic)"
   ]
  },
  {
   "cell_type": "code",
   "execution_count": null,
   "metadata": {},
   "outputs": [],
   "source": [
    "https://apigw.prod.quintoandar.com.br/cached/house-listing-search/v1/search/coordinates?context.mapShowing=true&context.listShowing=true&context.deviceId=YZbBypED7L-n8SKyGYesQxZfgyHtAQtBErM0pFG9ASSaHmYVbEvfGA&context.numPhotos=12&context.isSSR=false&filters.businessContext=SALE&filters.location.coordinate.lat=-23.618631&filters.location.coordinate.lng=-46.648275&filters.location.viewport.east=-46.63355185480303&filters.location.viewport.north=-23.60514117591122&filters.location.viewport.south=-23.63212082408878&filters.location.viewport.west=-46.662998145196966&filters.location.countryCode=BR&filters.availability=ANY&filters.occupancy=ANY&fields%5B0%5D=location"
   ]
  },
  {
   "cell_type": "code",
   "execution_count": 29,
   "metadata": {},
   "outputs": [],
   "source": [
    "lat=-23.618631\n",
    "lng=-46.648275"
   ]
  },
  {
   "cell_type": "code",
   "execution_count": null,
   "metadata": {},
   "outputs": [],
   "source": [
    "https://apigw.prod.quintoandar.com.br/cached/house-listing-search/v1/search/coordinates?context.mapShowing=true&context.listShowing=true&context.deviceId=YZbBypED7L-n8SKyGYesQxZfgyHtAQtBErM0pFG9ASSaHmYVbEvfGA&context.numPhotos=12&context.isSSR=false&filters.businessContext=SALE&filters.location.coordinate.lat=-23.6082898&filters.location.coordinate.lng=-46.65553920000001&filters.location.viewport.east=-46.63355185480303&filters.location.viewport.north=-23.60514117591122&filters.location.viewport.south=-23.63212082408878&filters.location.viewport.west=-46.662998145196966&filters.location.countryCode=BR&filters.availability=ANY&filters.occupancy=ANY&fields%5B0%5D=location"
   ]
  },
  {
   "cell_type": "code",
   "execution_count": null,
   "metadata": {},
   "outputs": [],
   "source": []
  }
 ],
 "metadata": {
  "kernelspec": {
   "display_name": "base",
   "language": "python",
   "name": "python3"
  },
  "language_info": {
   "codemirror_mode": {
    "name": "ipython",
    "version": 3
   },
   "file_extension": ".py",
   "mimetype": "text/x-python",
   "name": "python",
   "nbconvert_exporter": "python",
   "pygments_lexer": "ipython3",
   "version": "3.9.19"
  }
 },
 "nbformat": 4,
 "nbformat_minor": 2
}
