{
 "cells": [
  {
   "cell_type": "code",
   "execution_count": null,
   "metadata": {},
   "outputs": [
    {
     "ename": "",
     "evalue": "",
     "output_type": "error",
     "traceback": [
      "\u001b[1;31mRunning cells with '.conda (Python 3.11.11)' requires the ipykernel package.\n",
      "\u001b[1;31mRun the following command to install 'ipykernel' into the Python environment. \n",
      "\u001b[1;31mCommand: 'conda install -n .conda ipykernel --update-deps --force-reinstall'"
     ]
    }
   ],
   "source": [
    "import pandas as pd\n",
    "import re\n",
    "import os\n",
    "import zipfile\n",
    "import geopandas as gpd\n",
    "import matplotlib.pyplot as plt\n",
    "import numpy as np\n",
    "import matplotlib.colors as mcolors\n",
    "import seaborn as sns\n",
    "\n"
   ]
  },
  {
   "cell_type": "code",
   "execution_count": null,
   "metadata": {},
   "outputs": [],
   "source": [
    "\n",
    "# Carregar o arquivo CSV\n",
    "IPTU_util = pd.read_csv(\"IPTU_2024/IPTU_2024.csv\", sep=\";\", encoding=\"latin1\", quotechar='\"')\n",
    "\n",
    "# Selecionar e renomear as colunas\n",
    "IPTU_util = IPTU_util.rename(columns={\n",
    "    \"NUMERO.DO.CONTRIBUINTE\": \"sql\",\n",
    "    \"NUMERO.DO.CONDOMINIO\": \"condominio\",\n",
    "    \"NOME.DE.LOGRADOURO.DO.IMOVEL\": \"rua\",\n",
    "    \"NUMERO.DO.IMOVEL\": \"numero\",\n",
    "    \"AREA.DO.TERRENO\": \"area_terreno\",\n",
    "    \"BAIRRO.DO.IMOVEL\": \"bairro\",\n",
    "    \"CEP.DO.IMOVEL\": \"CEP\",\n",
    "    \"VALOR.DO.M2.DO.TERRENO\": \"valor_m2_terreno\",\n",
    "    \"AREA.CONSTRUIDA\": \"area_construida\",\n",
    "    \"VALOR.DO.M2.DE.CONSTRUCAO\": \"valor_m2_construcao\",\n",
    "    \"AREA.OCUPADA\": \"area_ocupada\",\n",
    "    \"TIPO.DE.PADRAO.DA.CONSTRUCAO\": \"tipo\"\n",
    "})\n",
    "\n",
    "# Criar as colunas setor, quadra e lote\n",
    "IPTU_util[\"setor\"] = IPTU_util[\"sql\"].astype(str).str[:3]\n",
    "IPTU_util[\"quadra\"] = IPTU_util[\"sql\"].astype(str).str[3:6]\n",
    "\n",
    "# Definir lote, verificando se é um condomínio\n",
    "IPTU_util[\"lote\"] = IPTU_util.apply(\n",
    "    lambda row: row[\"sql\"][6:10] if row[\"condominio\"] == \"00-0\" else f\"CD{row['condominio'][:2]}\", axis=1\n",
    ")\n",
    "\n",
    "# Definir a coluna residencial com base no tipo\n",
    "IPTU_util[\"residencial\"] = IPTU_util[\"tipo\"].str.contains(\"Residencial\", case=False, na=False)\n",
    "\n",
    "# Exibir as primeiras linhas do dataframe\n",
    "print(IPTU_util.head())\n"
   ]
  },
  {
   "cell_type": "code",
   "execution_count": null,
   "metadata": {},
   "outputs": [],
   "source": [
    "# Filtrar apenas imóveis residenciais e agregar os dados\n",
    "IPTU = (IPTU_util[IPTU_util[\"residencial\"]]\n",
    "    .groupby([\"setor\", \"quadra\", \"lote\"], as_index=False)\n",
    "    .agg(\n",
    "        unidades=(\"sql\", \"count\"),\n",
    "        area_terreno=(\"area_terreno\", \"median\"),\n",
    "        area_construida=(\"area_construida\", \"sum\"),\n",
    "        valor_terreno=(\"valor_m2_terreno\", \"median\"),\n",
    "        valor_construcao=(\"valor_m2_construcao\", \"median\"),\n",
    "        residencial=(\"residencial\", \"median\")\n",
    "    )\n",
    ")"
   ]
  },
  {
   "cell_type": "code",
   "execution_count": null,
   "metadata": {},
   "outputs": [],
   "source": [
    "if \"zip\" not in os.listdir(\"dados/lotes\"):\n",
    "    for file in os.listdir(\"dados/lotes/zip\"):\n",
    "        file_name = re.sub(r\"\\.zip\", \"\", file)\n",
    "        with zipfile.ZipFile(f\"dados/lotes/zip/{file}\", 'r') as zip_ref:\n",
    "            for ext in [\"shp\", \"dbf\", \"shx\"]:\n",
    "                try:\n",
    "                    zip_ref.extract(f\"{file_name}/{file_name}.{ext}\", path=\"dados/lotes/unzip\")\n",
    "                except KeyError:\n",
    "                    print(f\"Arquivo {file_name}.{ext} não encontrado no zip.\")\n",
    "\n",
    "# Criar diretório 'combinados' se não existir\n",
    "if not os.path.exists(\"dados/lotes/combinados\"):\n",
    "    os.makedirs(\"dados/lotes/combinados\", exist_ok=True)"
   ]
  },
  {
   "cell_type": "code",
   "execution_count": null,
   "metadata": {},
   "outputs": [],
   "source": [
    "lotes_combinados = [\n",
    "    gpd.read_file(f\"dados/lotes/unzip/{file}/{file}.shp\")\n",
    "    for file in os.listdir(\"dados/lotes/unzip\")\n",
    "]\n",
    "\n",
    "lotes_combinados = gpd.GeoDataFrame(pd.concat(lotes_combinados, ignore_index=True))\n",
    "lotes_combinados.set_crs(epsg=31983, inplace=True)\n",
    "\n",
    "# Salvar o arquivo combinado\n",
    "lotes_combinados.to_file(\"dados/lotes/combinados/lotes_combinados.shp\")\n"
   ]
  },
  {
   "cell_type": "code",
   "execution_count": null,
   "metadata": {},
   "outputs": [],
   "source": [
    "# Carregar o shapefile\n",
    "censo = gpd.read_file(\"SP_Malha_Preliminar_2022/SP_Malha_Preliminar_2022.shp\")\n",
    "\n",
    "# Filtrar apenas o município específico\n",
    "censo = censo[censo[\"CD_MUN\"] == \"3550308\"]\n",
    "\n",
    "# Transformar o sistema de coordenadas para EPSG:31983\n",
    "censo = censo.to_crs(epsg=31983)\n",
    "\n",
    "# Selecionar a coluna desejada e calcular a área do setor censitário\n",
    "censo = censo[[\"CD_SETOR\"]].rename(columns={\"CD_SETOR\": \"id_setor_censitario\"})\n",
    "censo[\"area_setor\"] = censo.geometry.area.astype(float)\n",
    "\n",
    "# Converter a geometria para POLYGON\n",
    "censo = censo.explode(index_parts=False)\n",
    "\n",
    "# Exibir as primeiras linhas do dataframe\n",
    "print(censo.head())"
   ]
  },
  {
   "cell_type": "markdown",
   "metadata": {},
   "source": [
    "## JOIN"
   ]
  },
  {
   "cell_type": "code",
   "execution_count": null,
   "metadata": {},
   "outputs": [],
   "source": [
    "# Filtrar apenas imóveis residenciais\n",
    "IPTU_lote = IPTU[IPTU[\"residencial\"] == 1]\n",
    "\n",
    "# Realizar a junção com os lotes\n",
    "IPTU_lote = IPTU_lote.merge(lotes, on=[\"setor\", \"quadra\", \"lote\"], how=\"left\")\n",
    "\n",
    "# Converter para GeoDataFrame com o mesmo sistema de coordenadas dos lotes\n",
    "IPTU_lote = gpd.GeoDataFrame(IPTU_lote, geometry=lotes.geometry, crs=lotes.crs)\n",
    "\n",
    "# Exibir as primeiras linhas do dataframe\n",
    "print(IPTU_lote.head())"
   ]
  },
  {
   "cell_type": "code",
   "execution_count": null,
   "metadata": {},
   "outputs": [],
   "source": [
    "\n",
    "\n",
    "# Realizar a interseção espacial entre censo e IPTU_lote\n",
    "IPTU_censo = gpd.overlay(censo, IPTU_lote, how='intersection')\n",
    "\n",
    "# Converter para DataFrame tabular e renomear a coluna de geometria\n",
    "IPTU_censo = IPTU_censo.rename(columns={\"geometry\": \"geometria_intersec\"})\n",
    "\n",
    "# Recuperar geometrias do setor censitário\n",
    "censo_geom = censo[[\"id_setor_censitario\", \"geometry\"]].rename(columns={\"geometry\": \"geometria_setor_censitario\"})\n",
    "IPTU_censo = IPTU_censo.merge(censo_geom, on=\"id_setor_censitario\", how=\"left\")\n",
    "\n",
    "# Recuperar geometrias dos lotes\n",
    "lotes_geom = IPTU_lote[[\"setor\", \"quadra\", \"lote\", \"geometry\"]].rename(columns={\"geometry\": \"geometria_lote\"})\n",
    "IPTU_censo = IPTU_censo.merge(lotes_geom, on=[\"setor\", \"quadra\", \"lote\"], how=\"left\")\n",
    "\n",
    "# Calcular a porcentagem de interseção do lote dentro do setor\n",
    "IPTU_censo[\"percent_intersec\"] = IPTU_censo.apply(\n",
    "    lambda row: row[\"geometria_intersec\"].area / row[\"geometria_lote\"].area if row[\"geometria_lote\"] else 0, axis=1\n",
    ")\n",
    "\n",
    "# Exibir as primeiras linhas do dataframe\n",
    "print(IPTU_censo.head())\n"
   ]
  },
  {
   "cell_type": "markdown",
   "metadata": {},
   "source": [
    "## Cálculo do Erro:"
   ]
  },
  {
   "cell_type": "code",
   "execution_count": null,
   "metadata": {},
   "outputs": [],
   "source": [
    "# Criar os dataframes com a coluna \"base\"\n",
    "IPTU_bruta = IPTU[IPTU[\"residencial\"] == 1].copy()\n",
    "IPTU_bruta[\"base\"] = \"bruta\"\n",
    "\n",
    "IPTU_lote_filtered = IPTU_lote[~IPTU_lote.geometry.is_empty].copy()\n",
    "IPTU_lote_filtered[\"base\"] = \"Lote\"\n",
    "\n",
    "# Função para agrupar e sumarizar unidades\n",
    "def process_df(df):\n",
    "    if \"geometry\" in df.columns:\n",
    "        df = df.drop(columns=[\"geometry\"])\n",
    "    return df.groupby(\"base\", as_index=False).agg(unidades=(\"unidades\", \"sum\"))\n",
    "\n",
    "# Aplicar a função aos dataframes\n",
    "bruta_df = process_df(IPTU_bruta)\n",
    "lote_df = process_df(IPTU_lote_filtered)\n",
    "\n",
    "# Unir os resultados\n",
    "result = pd.merge(bruta_df, lote_df, on=\"base\", how=\"outer\", suffixes=(\"_bruta\", \"_Lote\"))\n",
    "\n",
    "# Calcular diferenças\n",
    "result[\"missing\"] = result[\"unidades_bruta\"] - result[\"unidades_Lote\"]\n",
    "result[\"missing_percent\"] = (100 * result[\"missing\"] / result[\"unidades_bruta\"]).round(2).astype(str) + \"%\"\n",
    "\n",
    "# Selecionar e renomear colunas\n",
    "result = result.rename(columns={\n",
    "    \"unidades_Lote\": \"Critério de join\",\n",
    "    \"missing\": \"Erros (unidades)\",\n",
    "    \"missing_percent\": \"Percentual de erro\"\n",
    "})\n",
    "\n",
    "# Exibir resultado\n",
    "print(result)"
   ]
  },
  {
   "cell_type": "markdown",
   "metadata": {},
   "source": [
    "## Gráficos\n",
    "### Unidade vs Condomínio"
   ]
  },
  {
   "cell_type": "code",
   "execution_count": null,
   "metadata": {},
   "outputs": [],
   "source": [
    "\n",
    "# Criar a coluna \"Tipo\" com base no número de unidades\n",
    "IPTU[\"Tipo\"] = IPTU[\"unidades\"].apply(lambda x: \"Unidade\" if x == 1 else \"Condomínio\")\n",
    "\n",
    "# Agrupar por \"Tipo\" e calcular os valores agregados\n",
    "result = IPTU.groupby(\"Tipo\", as_index=False).agg(\n",
    "    Lotes=(\"Tipo\", \"count\"),\n",
    "    Unidades=(\"unidades\", \"sum\")\n",
    ")\n",
    "\n",
    "# Exibir resultado\n",
    "print(result)\n"
   ]
  },
  {
   "cell_type": "code",
   "execution_count": null,
   "metadata": {},
   "outputs": [],
   "source": [
    "\n",
    "# Filtrar dados conforme as condições\n",
    "filtered_data = IPTU_util[\n",
    "    (IPTU_util[\"residencial\"] == 1) &\n",
    "    (IPTU_util[\"area_terreno\"] < 10000) &\n",
    "    (IPTU_util[\"area_construida\"] < 5000) &\n",
    "    (IPTU_util[\"valor_m2_terreno\"] < 10000) &\n",
    "    (IPTU_util[\"valor_m2_construcao\"] < 10000)\n",
    "]\n",
    "\n",
    "# Selecionar e renomear colunas\n",
    "filtered_data = filtered_data.rename(columns={\n",
    "    \"area_terreno\": \"Área do Terreno (m²)\",\n",
    "    \"area_construida\": \"Área Construída (m²)\",\n",
    "    \"valor_m2_terreno\": \"Preço do Terreno (R$/m²)\",\n",
    "    \"valor_m2_construcao\": \"Preço da Construção (R$/m²)\"\n",
    "})\n",
    "\n",
    "# Converter para formato longo para plotagem\n",
    "melted_data = filtered_data.melt(var_name=\"Variável\", value_name=\"Valor\")\n",
    "\n",
    "# Criar o gráfico\n",
    "plt.figure(figsize=(12, 8))\n",
    "g = sns.FacetGrid(melted_data, col=\"Variável\", sharex=False, sharey=False, height=4)\n",
    "g.map_dataframe(sns.histplot, x=\"Valor\", bins=30, color=\"skyblue\", edgecolor=\"black\")\n",
    "g.set_axis_labels(\"\", \"Frequência\")\n",
    "g.set_titles(col_template=\"{col_name}\")\n",
    "g.tight_layout()\n",
    "\n",
    "plt.show()"
   ]
  },
  {
   "cell_type": "code",
   "execution_count": null,
   "metadata": {},
   "outputs": [],
   "source": [
    "\n",
    "# Criar figura e eixo\n",
    "fig, ax = plt.subplots(figsize=(10, 8))\n",
    "\n",
    "# Definir colormap e escala logarítmica\n",
    "norm = mcolors.LogNorm(vmin=1000, vmax=50000)\n",
    "cmap = plt.get_cmap(\"plasma\")\n",
    "\n",
    "# Plotar mapa com escala logarítmica\n",
    "IPTU_censo_valores.plot(\n",
    "    column=\"valor_terreno\",\n",
    "    cmap=cmap,\n",
    "    norm=norm,\n",
    "    linewidth=0,\n",
    "    legend=True,\n",
    "    legend_kwds={\n",
    "        \"label\": \"Preço do Terreno (R$/m²)\",\n",
    "        \"orientation\": \"vertical\",\n",
    "        \"format\": \"%.0f\"\n",
    "    },\n",
    "    ax=ax\n",
    ")\n",
    "\n",
    "# Ajustar título e remover eixos\n",
    "ax.set_title(\"Distribuição do Preço Médio do Terreno (R$/m²)\", fontsize=14)\n",
    "ax.set_axis_off()\n",
    "\n",
    "# Ajustar posição da legenda\n",
    "leg = ax.get_legend()\n",
    "leg.set_bbox_to_anchor((0.8, 0.3))\n",
    "\n",
    "plt.show()\n"
   ]
  }
 ],
 "metadata": {
  "kernelspec": {
   "display_name": ".conda",
   "language": "python",
   "name": "python3"
  },
  "language_info": {
   "name": "python",
   "version": "3.11.11"
  }
 },
 "nbformat": 4,
 "nbformat_minor": 2
}
