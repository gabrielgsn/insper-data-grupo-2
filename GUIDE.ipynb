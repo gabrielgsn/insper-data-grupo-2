{
 "cells": [
  {
   "cell_type": "markdown",
   "metadata": {},
   "source": [
    "# Guia de como usar esse repositorio"
   ]
  },
  {
   "cell_type": "markdown",
   "metadata": {},
   "source": [
    "## ITBI - Imposto de Transmissão de Bens Imóveis"
   ]
  },
  {
   "cell_type": "markdown",
   "metadata": {},
   "source": [
    "## Primeiro arquivo a rodar - padronizar_itbi.ipynb"
   ]
  },
  {
   "cell_type": "markdown",
   "metadata": {},
   "source": [
    "### Esse primeiro arquivo, como o nome sugere, serve para padronizar os dados do ITBI. Ele faz a leitura dos arquivos, seleciona apenas dados relevantes, padroniza os dados e salva em um arquivo csv. Certifique-se de ter pandas instalado antes de rodar esse arquivo."
   ]
  },
  {
   "cell_type": "markdown",
   "metadata": {},
   "source": [
    "### Para baixar a serie de dados do ITBI, basta acessar esse link https://capital.sp.gov.br/web/fazenda/w/acesso_a_informacao/31501 e fazer download dos arquivos em formato .xlsx. Alem disso, sera necessario colocar esses arquivos instalados na pasta \"dados\" do repositorio. Por fim, adicione o nome dos arquivos na lista 'file_paths' na segunda celula de python do arquivo padronizar_itbi.ipynb."
   ]
  },
  {
   "cell_type": "markdown",
   "metadata": {},
   "source": [
    "### Ao rodar todas as celulas desse arquivo, sera gerado um arquivo chamado 'IBTI_completo.xlsx' na pasta dados. Esse arquivo contem todos os dados padronizados do ITBI."
   ]
  },
  {
   "cell_type": "markdown",
   "metadata": {},
   "source": [
    "## Segundo arquivo a rodar - itbi_lotes_setor.ipynb ou itbi_lotes_setor_2.ipynb"
   ]
  },
  {
   "cell_type": "markdown",
   "metadata": {},
   "source": [
    "### Os arquivos necessarios para rodar esse arquivo sao o 'ITBI_completo.xlsx', as shapefiles dos lotes e as shapefiles dos setores de Sao Paulo. Os arquivos das shapefiles dos setores de Sao Paulo podem ser encontrados no link https://www.ibge.gov.br/geociencias/downloads-geociencias.html?caminho=organizacao_do_territorio/malhas_territoriais/malhas_de_setores_censitarios__divisoes_intramunicipais/censo_2022/setores/shp/UF e os shapefiles de lotes podem ser encontrados no link https://geosampa.prefeitura.sp.gov.br/PaginasPublicas/_SBC.aspx (Dados abertos -> Cadastro -> Lotes). Como os lotes vem separados em muitos arquivos, seria necessario juntar todos em um unico arquivo, o que foi feito pela Camila e esta disponivel no Google Drive nesse link https://drive.google.com/drive/u/0/folders/1zOXtsPBEImJPn4P9US-ZxUyKO4TDqVPP. Ao baixar todos os arquivos necessarios, sera necessarios inseri-los em pastas: \"geo\" para os shapefiles dos setores de Sao Paulo e \"dados/combinado\" para os shapefiles dos lotes."
   ]
  },
  {
   "cell_type": "markdown",
   "metadata": {},
   "source": [
    "### Para rodar esse par de arquivo, sera necessario ter instalado pandas, geopandas, e folium. O arquivo demora alguns minutos para rodar, mas, ao final, produz um mapa interativo com os lotes do ITBI, nomeado 'mapa_coropletico_itbi_venal.html' ou 'mapa_coropletico_itbi_transferencia.html' e um arquivo nomeado 'dados_itbi_transferencia.geojson' ou 'dados_itbi_venal.geojson' na raiz do repositorio, contendo as informacoes dos setores."
   ]
  },
  {
   "cell_type": "markdown",
   "metadata": {},
   "source": [
    "## Web Scraping"
   ]
  },
  {
   "cell_type": "markdown",
   "metadata": {},
   "source": [
    "### O primeiro arquivo a ser rodado é o 'run_scraping.py'. Ele faz o scraping dos CEPs utilizando a funcao 'extract_data(cep)' do arquivo utils.py. No arquivo, estao algumas listas que ja foram utilizadas para fazer o scraping como exemplo de como utilizar esse arquivo. Sera necessario ter instalado algumas bibliotecas utilizadas no utils, o que pode ser feito pelo comando:\n",
    "\n",
    "pip install beautifulsoup4 selenium shapely sqlite3 requests geopandas"
   ]
  },
  {
   "cell_type": "markdown",
   "metadata": {},
   "source": [
    "### Apos rodar o scraping, o arquivo data.db sera criado e populado na raiz do repositorio. Nesse arquivo, cada linha representa um imóvel, entao sera necessario rodar o proximo arquivo, 'gerar_tabela_simplificada.py' para gerar uma tabela em que cada linha seja um setor, contendo as informacoes de imoveis nesse setor. Ao rodar esse arquivo, um banco de dados chamado 'dados_final.db' sera criado e populado na raiz do repositorio."
   ]
  }
 ],
 "metadata": {
  "language_info": {
   "name": "python"
  }
 },
 "nbformat": 4,
 "nbformat_minor": 2
}
