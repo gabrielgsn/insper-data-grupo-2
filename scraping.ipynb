{
 "cells": [
  {
   "cell_type": "code",
   "execution_count": 57,
   "metadata": {},
   "outputs": [],
   "source": [
    "# Tentativa de Scraping no Site QuintoAndar\n",
    "# Camila Junqueira\n",
    "# Gabriel Nasser\n",
    "# Rafaela Alexandre\n",
    "\n",
    "import requests\n",
    "from bs4 import BeautifulSoup\n",
    "import pandas as pd\n",
    "import json\n",
    "import re"
   ]
  },
  {
   "cell_type": "code",
   "execution_count": 4,
   "metadata": {},
   "outputs": [],
   "source": [
    "def getDadosCEP(cep):\n",
    "\t\turl = (f'http://www.viacep.com.br/ws/{cep}/json')\n",
    "\t\t\n",
    "\t\treq = requests.get(url)\n",
    "\t\tif req.status_code == 200:\n",
    "\t\t\tdados_json = json.loads(req.text)\n",
    "\t\t\treturn dados_json\n",
    "\t\telse:\n",
    "\t\t\tprint('Erro ao buscar CEP')"
   ]
  },
  {
   "cell_type": "code",
   "execution_count": 17,
   "metadata": {},
   "outputs": [
    {
     "data": {
      "text/plain": [
       "{'cep': '04078-012',\n",
       " 'logradouro': 'Avenida Divino Salvador',\n",
       " 'complemento': 'de 501/502 a 799/800',\n",
       " 'unidade': '',\n",
       " 'bairro': 'Planalto Paulista',\n",
       " 'localidade': 'São Paulo',\n",
       " 'uf': 'SP',\n",
       " 'estado': 'São Paulo',\n",
       " 'regiao': 'Sudeste',\n",
       " 'ibge': '3550308',\n",
       " 'gia': '1004',\n",
       " 'ddd': '11',\n",
       " 'siafi': '7107'}"
      ]
     },
     "execution_count": 17,
     "metadata": {},
     "output_type": "execute_result"
    }
   ],
   "source": [
    "meu_cep = \"04078012\"\n",
    "dados = getDadosCEP(meu_cep)\n",
    "bairro = dados['bairro']\n",
    "dados"
   ]
  },
  {
   "cell_type": "code",
   "execution_count": 18,
   "metadata": {},
   "outputs": [
    {
     "data": {
      "text/plain": [
       "'planalto-paulista'"
      ]
     },
     "execution_count": 18,
     "metadata": {},
     "output_type": "execute_result"
    }
   ],
   "source": [
    "bairro = bairro.replace(\" \", \"-\").lower()\n",
    "bairro"
   ]
  },
  {
   "cell_type": "code",
   "execution_count": 5,
   "metadata": {},
   "outputs": [],
   "source": [
    "qa = \"https://www.quintoandar.com.br/comprar/imovel/{bairro}-sao-paulo-sp-brasil\""
   ]
  },
  {
   "cell_type": "code",
   "execution_count": 110,
   "metadata": {},
   "outputs": [],
   "source": [
    "def scraper(bairro):\n",
    "    url = f\"https://www.quintoandar.com.br/comprar/imovel/{bairro}-sao-paulo-sp-brasil\"\n",
    "    req = requests.get(url)\n",
    "    soup = BeautifulSoup(req.content, 'html.parser')\n",
    "    soup = soup.find('html')\n",
    "    soup = soup.prettify()\n",
    "    return soup"
   ]
  },
  {
   "cell_type": "code",
   "execution_count": 111,
   "metadata": {},
   "outputs": [],
   "source": [
    "moema = scraper(bairro)"
   ]
  },
  {
   "cell_type": "code",
   "execution_count": 112,
   "metadata": {},
   "outputs": [],
   "source": [
    "soup = BeautifulSoup(moema, 'html.parser')\n",
    "teste = soup.find_all(\"div\", class_=\"_2pfuCF\")"
   ]
  },
  {
   "cell_type": "code",
   "execution_count": 113,
   "metadata": {},
   "outputs": [
    {
     "data": {
      "text/plain": [
       "'800000'"
      ]
     },
     "execution_count": 113,
     "metadata": {},
     "output_type": "execute_result"
    }
   ],
   "source": [
    "valor = teste[0].find(\"h3\", class_=\"EqjlRj\").text\n",
    "valor = re.sub(r'\\D', '', valor)\n",
    "valor"
   ]
  },
  {
   "cell_type": "code",
   "execution_count": 114,
   "metadata": {},
   "outputs": [
    {
     "data": {
      "text/plain": [
       "'131'"
      ]
     },
     "execution_count": 114,
     "metadata": {},
     "output_type": "execute_result"
    }
   ],
   "source": [
    "m2 = teste[0].find(\"h3\", class_=\"o6Ojuq\").text\n",
    "m2.split(\"m²\")[0].split(\" \")[-2]\n"
   ]
  },
  {
   "cell_type": "code",
   "execution_count": 104,
   "metadata": {},
   "outputs": [],
   "source": [
    "def find_preco_imovel(imovel):\n",
    "    valor = imovel.find(\"h3\", class_=\"EqjlRj\").text\n",
    "    return re.sub(r'\\D', '', valor)"
   ]
  },
  {
   "cell_type": "code",
   "execution_count": 105,
   "metadata": {},
   "outputs": [
    {
     "data": {
      "text/plain": [
       "'800000'"
      ]
     },
     "execution_count": 105,
     "metadata": {},
     "output_type": "execute_result"
    }
   ],
   "source": [
    "find_preco_imovel(teste[0])"
   ]
  },
  {
   "cell_type": "code",
   "execution_count": 106,
   "metadata": {},
   "outputs": [],
   "source": [
    "def find_m2_imovel(imovel):\n",
    "    alt = imovel.find(\"h3\", class_=\"o6Ojuq\").text\n",
    "    return alt.split(\"m²\")[0].split(\" \")[-2]\n",
    "    "
   ]
  },
  {
   "cell_type": "code",
   "execution_count": 107,
   "metadata": {},
   "outputs": [
    {
     "data": {
      "text/plain": [
       "'131'"
      ]
     },
     "execution_count": 107,
     "metadata": {},
     "output_type": "execute_result"
    }
   ],
   "source": [
    "find_m2_imovel(teste[0])"
   ]
  },
  {
   "cell_type": "code",
   "execution_count": 115,
   "metadata": {},
   "outputs": [
    {
     "name": "stdout",
     "output_type": "stream",
     "text": [
      "Preco: 800000\n",
      "m2: 131\n",
      "__________\n",
      "Preco: 387000\n",
      "m2: 50\n",
      "__________\n",
      "Preco: 800000\n",
      "m2: 120\n",
      "__________\n",
      "Preco: 2000000\n",
      "m2: 90\n",
      "__________\n",
      "Preco: 799000\n",
      "m2: 120\n",
      "__________\n",
      "Preco: 610000\n",
      "m2: 95\n",
      "__________\n",
      "Preco: 1590000\n",
      "m2: 304\n",
      "__________\n",
      "Preco: 780000\n",
      "m2: 140\n",
      "__________\n",
      "Preco: 460000\n",
      "m2: 96\n",
      "__________\n",
      "Preco: 480000\n",
      "m2: 64\n",
      "__________\n"
     ]
    }
   ],
   "source": [
    "for i in range(0, 10):\n",
    "    print(\"Preco: \" + find_preco_imovel(teste[i]))\n",
    "    print(\"m2: \" + find_m2_imovel(teste[i]))\n",
    "    print(\"_\"*10)"
   ]
  },
  {
   "cell_type": "code",
   "execution_count": null,
   "metadata": {},
   "outputs": [],
   "source": []
  }
 ],
 "metadata": {
  "kernelspec": {
   "display_name": "base",
   "language": "python",
   "name": "python3"
  },
  "language_info": {
   "codemirror_mode": {
    "name": "ipython",
    "version": 3
   },
   "file_extension": ".py",
   "mimetype": "text/x-python",
   "name": "python",
   "nbconvert_exporter": "python",
   "pygments_lexer": "ipython3",
   "version": "3.9.19"
  }
 },
 "nbformat": 4,
 "nbformat_minor": 2
}
