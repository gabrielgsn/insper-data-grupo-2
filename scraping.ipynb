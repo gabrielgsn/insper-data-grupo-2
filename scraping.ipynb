{
 "cells": [
  {
   "cell_type": "code",
   "execution_count": 2,
   "metadata": {},
   "outputs": [],
   "source": [
    "# Scraping no Site QuintoAndar\n",
    "# Camila Junqueira\n",
    "# Gabriel Nasser\n",
    "# Rafaela Alexandre\n",
    "\n",
    "import requests\n",
    "from bs4 import BeautifulSoup\n",
    "import json\n",
    "import re\n",
    "import time\n",
    "from selenium import webdriver\n",
    "from selenium.webdriver.common.by import By\n",
    "from pprint import pprint"
   ]
  },
  {
   "cell_type": "code",
   "execution_count": 3,
   "metadata": {},
   "outputs": [],
   "source": [
    "def getDadosCEP(cep):\n",
    "\t\turl = (f'http://www.viacep.com.br/ws/{cep}/json')\n",
    "\t\t\n",
    "\t\treq = requests.get(url)\n",
    "\t\tif req.status_code == 200:\n",
    "\t\t\tdados_json = json.loads(req.text)\n",
    "\t\t\treturn dados_json\n",
    "\t\telse:\n",
    "\t\t\tprint('Erro ao buscar CEP')"
   ]
  },
  {
   "cell_type": "code",
   "execution_count": 4,
   "metadata": {},
   "outputs": [
    {
     "data": {
      "text/plain": [
       "{'cep': '04078-012',\n",
       " 'logradouro': 'Avenida Divino Salvador',\n",
       " 'complemento': 'de 501/502 a 799/800',\n",
       " 'unidade': '',\n",
       " 'bairro': 'Planalto Paulista',\n",
       " 'localidade': 'São Paulo',\n",
       " 'uf': 'SP',\n",
       " 'estado': 'São Paulo',\n",
       " 'regiao': 'Sudeste',\n",
       " 'ibge': '3550308',\n",
       " 'gia': '1004',\n",
       " 'ddd': '11',\n",
       " 'siafi': '7107'}"
      ]
     },
     "execution_count": 4,
     "metadata": {},
     "output_type": "execute_result"
    }
   ],
   "source": [
    "meu_cep = \"04078012\"\n",
    "dados = getDadosCEP(meu_cep)\n",
    "bairro = dados['bairro']\n",
    "dados"
   ]
  },
  {
   "cell_type": "code",
   "execution_count": 5,
   "metadata": {},
   "outputs": [
    {
     "data": {
      "text/plain": [
       "'planalto-paulista'"
      ]
     },
     "execution_count": 5,
     "metadata": {},
     "output_type": "execute_result"
    }
   ],
   "source": [
    "bairro = bairro.replace(\" \", \"-\").lower()\n",
    "bairro"
   ]
  },
  {
   "cell_type": "code",
   "execution_count": 6,
   "metadata": {},
   "outputs": [],
   "source": [
    "qa = \"https://www.quintoandar.com.br/comprar/imovel/{bairro}-sao-paulo-sp-brasil?pagina=10\""
   ]
  },
  {
   "cell_type": "code",
   "execution_count": 113,
   "metadata": {},
   "outputs": [],
   "source": [
    "def scraper(bairro):\n",
    "    driver = webdriver.Chrome()\n",
    "\n",
    "    driver.get('https://www.quintoandar.com.br/comprar/imovel/'+bairro+'-sao-paulo-sp-brasil')\n",
    "    time.sleep(5)\n",
    "\n",
    "    for i in range(9):\n",
    "        try:\n",
    "            ver_mais_button = driver.find_element(By.XPATH, \"//button[contains(text(), 'Ver mais')]\")\n",
    "            ver_mais_button.click()  # Clica no botão\n",
    "            time.sleep(3)  # Aguarde o conteúdo carregar após o clique\n",
    "        except:\n",
    "            pass\n",
    "\n",
    "    html_content = driver.page_source\n",
    "    soup = BeautifulSoup(html_content, 'html.parser')\n",
    "    soup = soup.find('html')\n",
    "    soup = soup.prettify()\n",
    "    return soup"
   ]
  },
  {
   "cell_type": "code",
   "execution_count": 11,
   "metadata": {},
   "outputs": [
    {
     "data": {
      "text/plain": [
       "12"
      ]
     },
     "execution_count": 11,
     "metadata": {},
     "output_type": "execute_result"
    },
    {
     "ename": "",
     "evalue": "",
     "output_type": "error",
     "traceback": [
      "\u001b[1;31mThe Kernel crashed while executing code in the current cell or a previous cell. \n",
      "\u001b[1;31mPlease review the code in the cell(s) to identify a possible cause of the failure. \n",
      "\u001b[1;31mClick <a href='https://aka.ms/vscodeJupyterKernelCrash'>here</a> for more info. \n",
      "\u001b[1;31mView Jupyter <a href='command:jupyter.viewOutput'>log</a> for further details."
     ]
    }
   ],
   "source": [
    "req = requests.get(\"https://www.quintoandar.com.br/comprar/imovel/planalto-paulista-sao-paulo-sp-brasil?pagina=10\")\n",
    "soup = BeautifulSoup(req.content, 'html.parser')\n",
    "soup = soup.find('html')\n",
    "casas = soup.find_all(attrs={\"data-testid\": \"house-card-container\"})\n",
    "len(casas)\n"
   ]
  },
  {
   "cell_type": "code",
   "execution_count": 100,
   "metadata": {},
   "outputs": [
    {
     "ename": "NoSuchWindowException",
     "evalue": "Message: no such window: target window already closed\nfrom unknown error: web view not found\n  (Session info: chrome=128.0.6613.138)\nStacktrace:\n\tGetHandleVerifier [0x00007FF6E0D49412+29090]\n\t(No symbol) [0x00007FF6E0CBE239]\n\t(No symbol) [0x00007FF6E0B7B1DA]\n\t(No symbol) [0x00007FF6E0B4FAF5]\n\t(No symbol) [0x00007FF6E0BFE2C7]\n\t(No symbol) [0x00007FF6E0C15EB1]\n\t(No symbol) [0x00007FF6E0BF6493]\n\t(No symbol) [0x00007FF6E0BC09D1]\n\t(No symbol) [0x00007FF6E0BC1B31]\n\tGetHandleVerifier [0x00007FF6E106871D+3302573]\n\tGetHandleVerifier [0x00007FF6E10B4243+3612627]\n\tGetHandleVerifier [0x00007FF6E10AA417+3572135]\n\tGetHandleVerifier [0x00007FF6E0E05EB6+801862]\n\t(No symbol) [0x00007FF6E0CC945F]\n\t(No symbol) [0x00007FF6E0CC4FB4]\n\t(No symbol) [0x00007FF6E0CC5140]\n\t(No symbol) [0x00007FF6E0CB461F]\n\tBaseThreadInitThunk [0x00007FFC483C257D+29]\n\tRtlUserThreadStart [0x00007FFC48C2AF28+40]\n",
     "output_type": "error",
     "traceback": [
      "\u001b[1;31m---------------------------------------------------------------------------\u001b[0m",
      "\u001b[1;31mNoSuchWindowException\u001b[0m                     Traceback (most recent call last)",
      "\u001b[1;32m~\\AppData\\Local\\Temp\\ipykernel_9084\\1167869863.py\u001b[0m in \u001b[0;36m<module>\u001b[1;34m\u001b[0m\n\u001b[1;32m----> 1\u001b[1;33m \u001b[0mmoema\u001b[0m \u001b[1;33m=\u001b[0m \u001b[0mscraper\u001b[0m\u001b[1;33m(\u001b[0m\u001b[0mbairro\u001b[0m\u001b[1;33m)\u001b[0m\u001b[1;33m\u001b[0m\u001b[1;33m\u001b[0m\u001b[0m\n\u001b[0m\u001b[0;32m      2\u001b[0m \u001b[0mpprint\u001b[0m\u001b[1;33m(\u001b[0m\u001b[0mmoema\u001b[0m\u001b[1;33m)\u001b[0m\u001b[1;33m\u001b[0m\u001b[1;33m\u001b[0m\u001b[0m\n",
      "\u001b[1;32m~\\AppData\\Local\\Temp\\ipykernel_9084\\1543154613.py\u001b[0m in \u001b[0;36mscraper\u001b[1;34m(bairro)\u001b[0m\n\u001b[0;32m     13\u001b[0m             \u001b[1;32mpass\u001b[0m\u001b[1;33m\u001b[0m\u001b[1;33m\u001b[0m\u001b[0m\n\u001b[0;32m     14\u001b[0m \u001b[1;33m\u001b[0m\u001b[0m\n\u001b[1;32m---> 15\u001b[1;33m     \u001b[0mhtml_content\u001b[0m \u001b[1;33m=\u001b[0m \u001b[0mdriver\u001b[0m\u001b[1;33m.\u001b[0m\u001b[0mpage_source\u001b[0m\u001b[1;33m\u001b[0m\u001b[1;33m\u001b[0m\u001b[0m\n\u001b[0m\u001b[0;32m     16\u001b[0m     \u001b[0msoup\u001b[0m \u001b[1;33m=\u001b[0m \u001b[0mBeautifulSoup\u001b[0m\u001b[1;33m(\u001b[0m\u001b[0mhtml_content\u001b[0m\u001b[1;33m,\u001b[0m \u001b[1;34m'html.parser'\u001b[0m\u001b[1;33m)\u001b[0m\u001b[1;33m\u001b[0m\u001b[1;33m\u001b[0m\u001b[0m\n\u001b[0;32m     17\u001b[0m     \u001b[0msoup\u001b[0m \u001b[1;33m=\u001b[0m \u001b[0msoup\u001b[0m\u001b[1;33m.\u001b[0m\u001b[0mfind\u001b[0m\u001b[1;33m(\u001b[0m\u001b[1;34m'html'\u001b[0m\u001b[1;33m)\u001b[0m\u001b[1;33m\u001b[0m\u001b[1;33m\u001b[0m\u001b[0m\n",
      "\u001b[1;32mc:\\Users\\ggsna\\anaconda3\\lib\\site-packages\\selenium\\webdriver\\remote\\webdriver.py\u001b[0m in \u001b[0;36mpage_source\u001b[1;34m(self)\u001b[0m\n\u001b[0;32m    453\u001b[0m                 \u001b[0mdriver\u001b[0m\u001b[1;33m.\u001b[0m\u001b[0mpage_source\u001b[0m\u001b[1;33m\u001b[0m\u001b[1;33m\u001b[0m\u001b[0m\n\u001b[0;32m    454\u001b[0m         \"\"\"\n\u001b[1;32m--> 455\u001b[1;33m         \u001b[1;32mreturn\u001b[0m \u001b[0mself\u001b[0m\u001b[1;33m.\u001b[0m\u001b[0mexecute\u001b[0m\u001b[1;33m(\u001b[0m\u001b[0mCommand\u001b[0m\u001b[1;33m.\u001b[0m\u001b[0mGET_PAGE_SOURCE\u001b[0m\u001b[1;33m)\u001b[0m\u001b[1;33m[\u001b[0m\u001b[1;34m\"value\"\u001b[0m\u001b[1;33m]\u001b[0m\u001b[1;33m\u001b[0m\u001b[1;33m\u001b[0m\u001b[0m\n\u001b[0m\u001b[0;32m    456\u001b[0m \u001b[1;33m\u001b[0m\u001b[0m\n\u001b[0;32m    457\u001b[0m     \u001b[1;32mdef\u001b[0m \u001b[0mclose\u001b[0m\u001b[1;33m(\u001b[0m\u001b[0mself\u001b[0m\u001b[1;33m)\u001b[0m \u001b[1;33m->\u001b[0m \u001b[1;32mNone\u001b[0m\u001b[1;33m:\u001b[0m\u001b[1;33m\u001b[0m\u001b[1;33m\u001b[0m\u001b[0m\n",
      "\u001b[1;32mc:\\Users\\ggsna\\anaconda3\\lib\\site-packages\\selenium\\webdriver\\remote\\webdriver.py\u001b[0m in \u001b[0;36mexecute\u001b[1;34m(self, driver_command, params)\u001b[0m\n\u001b[0;32m    352\u001b[0m         \u001b[0mresponse\u001b[0m \u001b[1;33m=\u001b[0m \u001b[0mself\u001b[0m\u001b[1;33m.\u001b[0m\u001b[0mcommand_executor\u001b[0m\u001b[1;33m.\u001b[0m\u001b[0mexecute\u001b[0m\u001b[1;33m(\u001b[0m\u001b[0mdriver_command\u001b[0m\u001b[1;33m,\u001b[0m \u001b[0mparams\u001b[0m\u001b[1;33m)\u001b[0m\u001b[1;33m\u001b[0m\u001b[1;33m\u001b[0m\u001b[0m\n\u001b[0;32m    353\u001b[0m         \u001b[1;32mif\u001b[0m \u001b[0mresponse\u001b[0m\u001b[1;33m:\u001b[0m\u001b[1;33m\u001b[0m\u001b[1;33m\u001b[0m\u001b[0m\n\u001b[1;32m--> 354\u001b[1;33m             \u001b[0mself\u001b[0m\u001b[1;33m.\u001b[0m\u001b[0merror_handler\u001b[0m\u001b[1;33m.\u001b[0m\u001b[0mcheck_response\u001b[0m\u001b[1;33m(\u001b[0m\u001b[0mresponse\u001b[0m\u001b[1;33m)\u001b[0m\u001b[1;33m\u001b[0m\u001b[1;33m\u001b[0m\u001b[0m\n\u001b[0m\u001b[0;32m    355\u001b[0m             \u001b[0mresponse\u001b[0m\u001b[1;33m[\u001b[0m\u001b[1;34m\"value\"\u001b[0m\u001b[1;33m]\u001b[0m \u001b[1;33m=\u001b[0m \u001b[0mself\u001b[0m\u001b[1;33m.\u001b[0m\u001b[0m_unwrap_value\u001b[0m\u001b[1;33m(\u001b[0m\u001b[0mresponse\u001b[0m\u001b[1;33m.\u001b[0m\u001b[0mget\u001b[0m\u001b[1;33m(\u001b[0m\u001b[1;34m\"value\"\u001b[0m\u001b[1;33m,\u001b[0m \u001b[1;32mNone\u001b[0m\u001b[1;33m)\u001b[0m\u001b[1;33m)\u001b[0m\u001b[1;33m\u001b[0m\u001b[1;33m\u001b[0m\u001b[0m\n\u001b[0;32m    356\u001b[0m             \u001b[1;32mreturn\u001b[0m \u001b[0mresponse\u001b[0m\u001b[1;33m\u001b[0m\u001b[1;33m\u001b[0m\u001b[0m\n",
      "\u001b[1;32mc:\\Users\\ggsna\\anaconda3\\lib\\site-packages\\selenium\\webdriver\\remote\\errorhandler.py\u001b[0m in \u001b[0;36mcheck_response\u001b[1;34m(self, response)\u001b[0m\n\u001b[0;32m    227\u001b[0m                 \u001b[0malert_text\u001b[0m \u001b[1;33m=\u001b[0m \u001b[0mvalue\u001b[0m\u001b[1;33m[\u001b[0m\u001b[1;34m\"alert\"\u001b[0m\u001b[1;33m]\u001b[0m\u001b[1;33m.\u001b[0m\u001b[0mget\u001b[0m\u001b[1;33m(\u001b[0m\u001b[1;34m\"text\"\u001b[0m\u001b[1;33m)\u001b[0m\u001b[1;33m\u001b[0m\u001b[1;33m\u001b[0m\u001b[0m\n\u001b[0;32m    228\u001b[0m             \u001b[1;32mraise\u001b[0m \u001b[0mexception_class\u001b[0m\u001b[1;33m(\u001b[0m\u001b[0mmessage\u001b[0m\u001b[1;33m,\u001b[0m \u001b[0mscreen\u001b[0m\u001b[1;33m,\u001b[0m \u001b[0mstacktrace\u001b[0m\u001b[1;33m,\u001b[0m \u001b[0malert_text\u001b[0m\u001b[1;33m)\u001b[0m  \u001b[1;31m# type: ignore[call-arg]  # mypy is not smart enough here\u001b[0m\u001b[1;33m\u001b[0m\u001b[1;33m\u001b[0m\u001b[0m\n\u001b[1;32m--> 229\u001b[1;33m         \u001b[1;32mraise\u001b[0m \u001b[0mexception_class\u001b[0m\u001b[1;33m(\u001b[0m\u001b[0mmessage\u001b[0m\u001b[1;33m,\u001b[0m \u001b[0mscreen\u001b[0m\u001b[1;33m,\u001b[0m \u001b[0mstacktrace\u001b[0m\u001b[1;33m)\u001b[0m\u001b[1;33m\u001b[0m\u001b[1;33m\u001b[0m\u001b[0m\n\u001b[0m",
      "\u001b[1;31mNoSuchWindowException\u001b[0m: Message: no such window: target window already closed\nfrom unknown error: web view not found\n  (Session info: chrome=128.0.6613.138)\nStacktrace:\n\tGetHandleVerifier [0x00007FF6E0D49412+29090]\n\t(No symbol) [0x00007FF6E0CBE239]\n\t(No symbol) [0x00007FF6E0B7B1DA]\n\t(No symbol) [0x00007FF6E0B4FAF5]\n\t(No symbol) [0x00007FF6E0BFE2C7]\n\t(No symbol) [0x00007FF6E0C15EB1]\n\t(No symbol) [0x00007FF6E0BF6493]\n\t(No symbol) [0x00007FF6E0BC09D1]\n\t(No symbol) [0x00007FF6E0BC1B31]\n\tGetHandleVerifier [0x00007FF6E106871D+3302573]\n\tGetHandleVerifier [0x00007FF6E10B4243+3612627]\n\tGetHandleVerifier [0x00007FF6E10AA417+3572135]\n\tGetHandleVerifier [0x00007FF6E0E05EB6+801862]\n\t(No symbol) [0x00007FF6E0CC945F]\n\t(No symbol) [0x00007FF6E0CC4FB4]\n\t(No symbol) [0x00007FF6E0CC5140]\n\t(No symbol) [0x00007FF6E0CB461F]\n\tBaseThreadInitThunk [0x00007FFC483C257D+29]\n\tRtlUserThreadStart [0x00007FFC48C2AF28+40]\n"
     ]
    }
   ],
   "source": [
    "moema = scraper(bairro)\n",
    "pprint(moema)"
   ]
  },
  {
   "cell_type": "code",
   "execution_count": 14,
   "metadata": {},
   "outputs": [
    {
     "data": {
      "text/plain": [
       "<div data-testid=\"house-card-container\">\n",
       "<a class=\"StyledLink_styledLink__P_6FN\" href=\"/imovel/894622729/comprar/casa-4-quartos-planalto-paulista-sao-paulo?from_route=%22search_results%22&amp;house_tags=isSaleGoodPrice&amp;house_tags=newAd&amp;search_id=%2250758009-21d8-4330-8633-ca4fdf929933%22&amp;search_rank=%7B%22sortMode%22%3A%22relevance%22%2C%22searchMode%22%3A%22list%22%2C%22resultsOrigin%22%3A%22search%22%2C%22rank%22%3A0%2C%22personalization%22%3Atrue%7D\" target=\"_blank\" title=\"Casa à venda com 4 quartos, 300m² em Planalto Paulista, São Paulo\">\n",
       "<div aria-label=\"Casa . Ótimo preço, Anúncio novo. Planalto Paulista, São Paulo, Alameda dos Quinimuras. 300 metros quadrados, 4 quartos, 2 vagas de garagem.  R$ 0 Condo. + IPTU, R$ 750.000 .\" class=\"qHIgfb CsxKHh Cozy__FindHouseCard-Container\" role=\"group\" tabindex=\"0\">\n",
       "<div aria-live=\"polite\" class=\"Cozy__CardBlock-Container _2pfuCF znH6Fs\">\n",
       "<div class=\"Cozy__CardRow-Container oVdjIf\" role=\"complementary\" style=\"--card-row-top: 0; --card-row-bottom: 0; --card-row-left: 0; --card-row-right: 0; --card-row-space-between: 0;\">\n",
       "<div class=\"Cozy__CardMedia-Wrapper Cozy__CardMedia--with-indicator-bullet Cozy__CardMedia--with-navigation-on-hover Cozy__CardMedia--with-tag Cozy__CardMedia--with-aspect-ratio-3:2 XdJlXC\">\n",
       "<div class=\"Cozy__CardMedia-CarouselSection sGDxzt\">\n",
       "<div aria-hidden=\"true\" class=\"Cozy__CardMedia-TagSection RUm0w-\" role=\"presentation\">\n",
       "<span class=\"Cozy__Tag Cozy__Tag-Wrapper XSKuMT MJVZE7\">\n",
       "<span class=\"CozyTypography Cozy__Tag-Label xih2fc EKXjIf pwAPLE\">\n",
       "                    Ótimo preço\n",
       "                   </span>\n",
       "</span>\n",
       "<span class=\"Cozy__Tag Cozy__Tag-Wrapper XSKuMT MJVZE7\">\n",
       "<span class=\"CozyTypography Cozy__Tag-Label xih2fc EKXjIf pwAPLE\">\n",
       "                    Anúncio novo\n",
       "                   </span>\n",
       "</span>\n",
       "</div>\n",
       "<div class=\"_5GOKEz\" style=\"--aspect-ratio: 1.5;\">\n",
       "<div class=\"Cozy__CarouselCore TD1gQ6 N8CtsJ\">\n",
       "<div class=\"swiper swiper-initialized swiper-horizontal swiper-pointer-events\">\n",
       "<div class=\"swiper-wrapper\">\n",
       "<div class=\"swiper-slide swiper-slide-active\" style=\"width: 330px;\">\n",
       "<div aria-hidden=\"false\" aria-label=\"Foto 1 de 12\" class=\"Cozy__ImageCarouselItem-Wrapper HJY4vG\" id=\"0\" role=\"img\" tabindex=\"0\">\n",
       "<div class=\"ProgressiveImage_imageWrapper__me6ST\">\n",
       "<img alt=\"Casa à venda com 4 quartos, 300m² em Planalto Paulista, São Paulo\" class=\"ProgressiveImage_image__1QoR0\" fetchpriority=\"low\" loading=\"lazy\" sizes=\"\n",
       "(min-width: 1280px) 20vw,\n",
       "(min-width: 960px) 30vw,\n",
       "(min-width: 640px) 50vw,\n",
       "100vw\" src=\"/img/med/894622729-493.286683978538909cf76b9-c131-430c-85fe-c47580c96de7-LEAD3P-b7a29a37-c9b7-4a3d-8dde-93314c789dfe.PNG\" srcset=\"/img/xsm/894622729-493.286683978538909cf76b9-c131-430c-85fe-c47580c96de7-LEAD3P-b7a29a37-c9b7-4a3d-8dde-93314c789dfe.PNG 120w,/img/sml/894622729-493.286683978538909cf76b9-c131-430c-85fe-c47580c96de7-LEAD3P-b7a29a37-c9b7-4a3d-8dde-93314c789dfe.PNG 300w,/img/med/894622729-493.286683978538909cf76b9-c131-430c-85fe-c47580c96de7-LEAD3P-b7a29a37-c9b7-4a3d-8dde-93314c789dfe.PNG 450w,/img/lrg/894622729-493.286683978538909cf76b9-c131-430c-85fe-c47580c96de7-LEAD3P-b7a29a37-c9b7-4a3d-8dde-93314c789dfe.PNG 600w,/img/xlg/894622729-493.286683978538909cf76b9-c131-430c-85fe-c47580c96de7-LEAD3P-b7a29a37-c9b7-4a3d-8dde-93314c789dfe.PNG 840w,/img/xxl/894622729-493.286683978538909cf76b9-c131-430c-85fe-c47580c96de7-LEAD3P-b7a29a37-c9b7-4a3d-8dde-93314c789dfe.PNG 1152w\"/>\n",
       "</div>\n",
       "</div>\n",
       "</div>\n",
       "<div class=\"swiper-slide swiper-slide-next\" style=\"width: 330px;\">\n",
       "<div aria-hidden=\"true\" aria-label=\"Foto 2 de 12\" class=\"Cozy__ImageCarouselItem-Wrapper HJY4vG\" id=\"1\" role=\"img\" tabindex=\"-1\">\n",
       "<div class=\"ProgressiveImage_imageWrapper__me6ST\">\n",
       "<img alt=\"Casa à venda com 4 quartos, 300m² em Planalto Paulista, São Paulo\" class=\"ProgressiveImage_image__1QoR0\" fetchpriority=\"low\" loading=\"lazy\" sizes=\"\n",
       "(min-width: 1280px) 20vw,\n",
       "(min-width: 960px) 30vw,\n",
       "(min-width: 640px) 50vw,\n",
       "100vw\" src=\"/img/med/894622729-404.476433877597709cf76b9-c131-430c-85fe-c47580c96de7-LEAD3P-dbbaf3e4-9285-4c65-9bfa-9a991067dc25.PNG\" srcset=\"/img/xsm/894622729-404.476433877597709cf76b9-c131-430c-85fe-c47580c96de7-LEAD3P-dbbaf3e4-9285-4c65-9bfa-9a991067dc25.PNG 120w,/img/sml/894622729-404.476433877597709cf76b9-c131-430c-85fe-c47580c96de7-LEAD3P-dbbaf3e4-9285-4c65-9bfa-9a991067dc25.PNG 300w,/img/med/894622729-404.476433877597709cf76b9-c131-430c-85fe-c47580c96de7-LEAD3P-dbbaf3e4-9285-4c65-9bfa-9a991067dc25.PNG 450w,/img/lrg/894622729-404.476433877597709cf76b9-c131-430c-85fe-c47580c96de7-LEAD3P-dbbaf3e4-9285-4c65-9bfa-9a991067dc25.PNG 600w,/img/xlg/894622729-404.476433877597709cf76b9-c131-430c-85fe-c47580c96de7-LEAD3P-dbbaf3e4-9285-4c65-9bfa-9a991067dc25.PNG 840w,/img/xxl/894622729-404.476433877597709cf76b9-c131-430c-85fe-c47580c96de7-LEAD3P-dbbaf3e4-9285-4c65-9bfa-9a991067dc25.PNG 1152w\"/>\n",
       "</div>\n",
       "</div>\n",
       "</div>\n",
       "<div class=\"swiper-slide\" style=\"width: 330px;\">\n",
       "<div aria-hidden=\"true\" aria-label=\"Foto 3 de 12\" class=\"Cozy__ImageCarouselItem-Wrapper HJY4vG\" id=\"2\" role=\"img\" tabindex=\"-1\">\n",
       "<div class=\"ProgressiveImage_imageWrapper__me6ST\">\n",
       "<img alt=\"Casa à venda com 4 quartos, 300m² em Planalto Paulista, São Paulo\" class=\"ProgressiveImage_image__1QoR0\" fetchpriority=\"low\" loading=\"lazy\" sizes=\"\n",
       "(min-width: 1280px) 20vw,\n",
       "(min-width: 960px) 30vw,\n",
       "(min-width: 640px) 50vw,\n",
       "100vw\" src=\"/img/med/894622729-58.10329572240813409cf76b9-c131-430c-85fe-c47580c96de7-LEAD3P-14ad212f-167c-47f3-85de-ddd82574f0e5.PNG\" srcset=\"/img/xsm/894622729-58.10329572240813409cf76b9-c131-430c-85fe-c47580c96de7-LEAD3P-14ad212f-167c-47f3-85de-ddd82574f0e5.PNG 120w,/img/sml/894622729-58.10329572240813409cf76b9-c131-430c-85fe-c47580c96de7-LEAD3P-14ad212f-167c-47f3-85de-ddd82574f0e5.PNG 300w,/img/med/894622729-58.10329572240813409cf76b9-c131-430c-85fe-c47580c96de7-LEAD3P-14ad212f-167c-47f3-85de-ddd82574f0e5.PNG 450w,/img/lrg/894622729-58.10329572240813409cf76b9-c131-430c-85fe-c47580c96de7-LEAD3P-14ad212f-167c-47f3-85de-ddd82574f0e5.PNG 600w,/img/xlg/894622729-58.10329572240813409cf76b9-c131-430c-85fe-c47580c96de7-LEAD3P-14ad212f-167c-47f3-85de-ddd82574f0e5.PNG 840w,/img/xxl/894622729-58.10329572240813409cf76b9-c131-430c-85fe-c47580c96de7-LEAD3P-14ad212f-167c-47f3-85de-ddd82574f0e5.PNG 1152w\"/>\n",
       "</div>\n",
       "</div>\n",
       "</div>\n",
       "<div class=\"swiper-slide\" style=\"width: 330px;\">\n",
       "<div aria-hidden=\"true\" aria-label=\"Foto 4 de 12\" class=\"Cozy__ImageCarouselItem-Wrapper HJY4vG\" id=\"3\" role=\"img\" tabindex=\"-1\">\n",
       "<div class=\"ProgressiveImage_imageWrapper__me6ST\">\n",
       "<img alt=\"Casa à venda com 4 quartos, 300m² em Planalto Paulista, São Paulo\" class=\"ProgressiveImage_image__1QoR0\" fetchpriority=\"low\" loading=\"lazy\" sizes=\"\n",
       "(min-width: 1280px) 20vw,\n",
       "(min-width: 960px) 30vw,\n",
       "(min-width: 640px) 50vw,\n",
       "100vw\" src=\"/img/med/894622729-453.1320863114467609cf76b9-c131-430c-85fe-c47580c96de7-LEAD3P-9e9a1fc2-506f-44fa-a914-908481ba792d.PNG\" srcset=\"/img/xsm/894622729-453.1320863114467609cf76b9-c131-430c-85fe-c47580c96de7-LEAD3P-9e9a1fc2-506f-44fa-a914-908481ba792d.PNG 120w,/img/sml/894622729-453.1320863114467609cf76b9-c131-430c-85fe-c47580c96de7-LEAD3P-9e9a1fc2-506f-44fa-a914-908481ba792d.PNG 300w,/img/med/894622729-453.1320863114467609cf76b9-c131-430c-85fe-c47580c96de7-LEAD3P-9e9a1fc2-506f-44fa-a914-908481ba792d.PNG 450w,/img/lrg/894622729-453.1320863114467609cf76b9-c131-430c-85fe-c47580c96de7-LEAD3P-9e9a1fc2-506f-44fa-a914-908481ba792d.PNG 600w,/img/xlg/894622729-453.1320863114467609cf76b9-c131-430c-85fe-c47580c96de7-LEAD3P-9e9a1fc2-506f-44fa-a914-908481ba792d.PNG 840w,/img/xxl/894622729-453.1320863114467609cf76b9-c131-430c-85fe-c47580c96de7-LEAD3P-9e9a1fc2-506f-44fa-a914-908481ba792d.PNG 1152w\"/>\n",
       "</div>\n",
       "</div>\n",
       "</div>\n",
       "<div class=\"swiper-slide\" style=\"width: 330px;\">\n",
       "<div aria-hidden=\"true\" aria-label=\"Foto 5 de 12\" class=\"Cozy__ImageCarouselItem-Wrapper HJY4vG\" id=\"4\" role=\"img\" tabindex=\"-1\">\n",
       "<div class=\"ProgressiveImage_imageWrapper__me6ST\">\n",
       "<img alt=\"Casa à venda com 4 quartos, 300m² em Planalto Paulista, São Paulo\" class=\"ProgressiveImage_image__1QoR0\" fetchpriority=\"low\" loading=\"lazy\" sizes=\"\n",
       "(min-width: 1280px) 20vw,\n",
       "(min-width: 960px) 30vw,\n",
       "(min-width: 640px) 50vw,\n",
       "100vw\" src=\"/img/med/894622729-691.174898553055409cf76b9-c131-430c-85fe-c47580c96de7-LEAD3P-50bc0f68-33e2-4c64-aa51-5f5438aa9ba7.PNG\" srcset=\"/img/xsm/894622729-691.174898553055409cf76b9-c131-430c-85fe-c47580c96de7-LEAD3P-50bc0f68-33e2-4c64-aa51-5f5438aa9ba7.PNG 120w,/img/sml/894622729-691.174898553055409cf76b9-c131-430c-85fe-c47580c96de7-LEAD3P-50bc0f68-33e2-4c64-aa51-5f5438aa9ba7.PNG 300w,/img/med/894622729-691.174898553055409cf76b9-c131-430c-85fe-c47580c96de7-LEAD3P-50bc0f68-33e2-4c64-aa51-5f5438aa9ba7.PNG 450w,/img/lrg/894622729-691.174898553055409cf76b9-c131-430c-85fe-c47580c96de7-LEAD3P-50bc0f68-33e2-4c64-aa51-5f5438aa9ba7.PNG 600w,/img/xlg/894622729-691.174898553055409cf76b9-c131-430c-85fe-c47580c96de7-LEAD3P-50bc0f68-33e2-4c64-aa51-5f5438aa9ba7.PNG 840w,/img/xxl/894622729-691.174898553055409cf76b9-c131-430c-85fe-c47580c96de7-LEAD3P-50bc0f68-33e2-4c64-aa51-5f5438aa9ba7.PNG 1152w\"/>\n",
       "</div>\n",
       "</div>\n",
       "</div>\n",
       "<div class=\"swiper-slide\" style=\"width: 330px;\">\n",
       "<div aria-hidden=\"true\" aria-label=\"Foto 6 de 12\" class=\"Cozy__ImageCarouselItem-Wrapper HJY4vG\" id=\"5\" role=\"img\" tabindex=\"-1\">\n",
       "<div class=\"ProgressiveImage_imageWrapper__me6ST\">\n",
       "<img alt=\"Casa à venda com 4 quartos, 300m² em Planalto Paulista, São Paulo\" class=\"ProgressiveImage_image__1QoR0\" fetchpriority=\"low\" loading=\"lazy\" sizes=\"\n",
       "(min-width: 1280px) 20vw,\n",
       "(min-width: 960px) 30vw,\n",
       "(min-width: 640px) 50vw,\n",
       "100vw\" src=\"/img/med/894622729-236.3528327106506609cf76b9-c131-430c-85fe-c47580c96de7-LEAD3P-c2c1fc41-8f1f-4d73-a690-40c9a5bd08c2.PNG\" srcset=\"/img/xsm/894622729-236.3528327106506609cf76b9-c131-430c-85fe-c47580c96de7-LEAD3P-c2c1fc41-8f1f-4d73-a690-40c9a5bd08c2.PNG 120w,/img/sml/894622729-236.3528327106506609cf76b9-c131-430c-85fe-c47580c96de7-LEAD3P-c2c1fc41-8f1f-4d73-a690-40c9a5bd08c2.PNG 300w,/img/med/894622729-236.3528327106506609cf76b9-c131-430c-85fe-c47580c96de7-LEAD3P-c2c1fc41-8f1f-4d73-a690-40c9a5bd08c2.PNG 450w,/img/lrg/894622729-236.3528327106506609cf76b9-c131-430c-85fe-c47580c96de7-LEAD3P-c2c1fc41-8f1f-4d73-a690-40c9a5bd08c2.PNG 600w,/img/xlg/894622729-236.3528327106506609cf76b9-c131-430c-85fe-c47580c96de7-LEAD3P-c2c1fc41-8f1f-4d73-a690-40c9a5bd08c2.PNG 840w,/img/xxl/894622729-236.3528327106506609cf76b9-c131-430c-85fe-c47580c96de7-LEAD3P-c2c1fc41-8f1f-4d73-a690-40c9a5bd08c2.PNG 1152w\"/>\n",
       "</div>\n",
       "</div>\n",
       "</div>\n",
       "<div class=\"swiper-slide\" style=\"width: 330px;\">\n",
       "<div aria-hidden=\"true\" aria-label=\"Foto 7 de 12\" class=\"Cozy__ImageCarouselItem-Wrapper HJY4vG\" id=\"6\" role=\"img\" tabindex=\"-1\">\n",
       "<div class=\"ProgressiveImage_imageWrapper__me6ST\">\n",
       "<img alt=\"Casa à venda com 4 quartos, 300m² em Planalto Paulista, São Paulo\" class=\"ProgressiveImage_image__1QoR0\" fetchpriority=\"low\" loading=\"lazy\" sizes=\"\n",
       "(min-width: 1280px) 20vw,\n",
       "(min-width: 960px) 30vw,\n",
       "(min-width: 640px) 50vw,\n",
       "100vw\" src=\"/img/med/894622729-949.263183958588209cf76b9-c131-430c-85fe-c47580c96de7-LEAD3P-f46e8d54-d684-474b-b099-903c8ea5b3d6.PNG\" srcset=\"/img/xsm/894622729-949.263183958588209cf76b9-c131-430c-85fe-c47580c96de7-LEAD3P-f46e8d54-d684-474b-b099-903c8ea5b3d6.PNG 120w,/img/sml/894622729-949.263183958588209cf76b9-c131-430c-85fe-c47580c96de7-LEAD3P-f46e8d54-d684-474b-b099-903c8ea5b3d6.PNG 300w,/img/med/894622729-949.263183958588209cf76b9-c131-430c-85fe-c47580c96de7-LEAD3P-f46e8d54-d684-474b-b099-903c8ea5b3d6.PNG 450w,/img/lrg/894622729-949.263183958588209cf76b9-c131-430c-85fe-c47580c96de7-LEAD3P-f46e8d54-d684-474b-b099-903c8ea5b3d6.PNG 600w,/img/xlg/894622729-949.263183958588209cf76b9-c131-430c-85fe-c47580c96de7-LEAD3P-f46e8d54-d684-474b-b099-903c8ea5b3d6.PNG 840w,/img/xxl/894622729-949.263183958588209cf76b9-c131-430c-85fe-c47580c96de7-LEAD3P-f46e8d54-d684-474b-b099-903c8ea5b3d6.PNG 1152w\"/>\n",
       "</div>\n",
       "</div>\n",
       "</div>\n",
       "<div class=\"swiper-slide\" style=\"width: 330px;\">\n",
       "<div aria-hidden=\"true\" aria-label=\"Foto 8 de 12\" class=\"Cozy__ImageCarouselItem-Wrapper HJY4vG\" id=\"7\" role=\"img\" tabindex=\"-1\">\n",
       "<div class=\"ProgressiveImage_imageWrapper__me6ST\">\n",
       "<img alt=\"Casa à venda com 4 quartos, 300m² em Planalto Paulista, São Paulo\" class=\"ProgressiveImage_image__1QoR0\" fetchpriority=\"low\" loading=\"lazy\" sizes=\"\n",
       "(min-width: 1280px) 20vw,\n",
       "(min-width: 960px) 30vw,\n",
       "(min-width: 640px) 50vw,\n",
       "100vw\" src=\"/img/med/894622729-950.384553249259709cf76b9-c131-430c-85fe-c47580c96de7-LEAD3P-91b6ff19-9a2c-4c95-8ccb-60298a0e613e.PNG\" srcset=\"/img/xsm/894622729-950.384553249259709cf76b9-c131-430c-85fe-c47580c96de7-LEAD3P-91b6ff19-9a2c-4c95-8ccb-60298a0e613e.PNG 120w,/img/sml/894622729-950.384553249259709cf76b9-c131-430c-85fe-c47580c96de7-LEAD3P-91b6ff19-9a2c-4c95-8ccb-60298a0e613e.PNG 300w,/img/med/894622729-950.384553249259709cf76b9-c131-430c-85fe-c47580c96de7-LEAD3P-91b6ff19-9a2c-4c95-8ccb-60298a0e613e.PNG 450w,/img/lrg/894622729-950.384553249259709cf76b9-c131-430c-85fe-c47580c96de7-LEAD3P-91b6ff19-9a2c-4c95-8ccb-60298a0e613e.PNG 600w,/img/xlg/894622729-950.384553249259709cf76b9-c131-430c-85fe-c47580c96de7-LEAD3P-91b6ff19-9a2c-4c95-8ccb-60298a0e613e.PNG 840w,/img/xxl/894622729-950.384553249259709cf76b9-c131-430c-85fe-c47580c96de7-LEAD3P-91b6ff19-9a2c-4c95-8ccb-60298a0e613e.PNG 1152w\"/>\n",
       "</div>\n",
       "</div>\n",
       "</div>\n",
       "<div class=\"swiper-slide\" style=\"width: 330px;\">\n",
       "<div aria-hidden=\"true\" aria-label=\"Foto 9 de 12\" class=\"Cozy__ImageCarouselItem-Wrapper HJY4vG\" id=\"8\" role=\"img\" tabindex=\"-1\">\n",
       "<div class=\"ProgressiveImage_imageWrapper__me6ST\">\n",
       "<img alt=\"Casa à venda com 4 quartos, 300m² em Planalto Paulista, São Paulo\" class=\"ProgressiveImage_image__1QoR0\" fetchpriority=\"low\" loading=\"lazy\" sizes=\"\n",
       "(min-width: 1280px) 20vw,\n",
       "(min-width: 960px) 30vw,\n",
       "(min-width: 640px) 50vw,\n",
       "100vw\" src=\"/img/med/894622729-494.10017046042309cf76b9-c131-430c-85fe-c47580c96de7-LEAD3P-ede0b310-ef57-4686-aa84-0052916ec570.PNG\" srcset=\"/img/xsm/894622729-494.10017046042309cf76b9-c131-430c-85fe-c47580c96de7-LEAD3P-ede0b310-ef57-4686-aa84-0052916ec570.PNG 120w,/img/sml/894622729-494.10017046042309cf76b9-c131-430c-85fe-c47580c96de7-LEAD3P-ede0b310-ef57-4686-aa84-0052916ec570.PNG 300w,/img/med/894622729-494.10017046042309cf76b9-c131-430c-85fe-c47580c96de7-LEAD3P-ede0b310-ef57-4686-aa84-0052916ec570.PNG 450w,/img/lrg/894622729-494.10017046042309cf76b9-c131-430c-85fe-c47580c96de7-LEAD3P-ede0b310-ef57-4686-aa84-0052916ec570.PNG 600w,/img/xlg/894622729-494.10017046042309cf76b9-c131-430c-85fe-c47580c96de7-LEAD3P-ede0b310-ef57-4686-aa84-0052916ec570.PNG 840w,/img/xxl/894622729-494.10017046042309cf76b9-c131-430c-85fe-c47580c96de7-LEAD3P-ede0b310-ef57-4686-aa84-0052916ec570.PNG 1152w\"/>\n",
       "</div>\n",
       "</div>\n",
       "</div>\n",
       "<div class=\"swiper-slide\" style=\"width: 330px;\">\n",
       "<div aria-hidden=\"true\" aria-label=\"Foto 10 de 12\" class=\"Cozy__ImageCarouselItem-Wrapper HJY4vG\" id=\"9\" role=\"img\" tabindex=\"-1\">\n",
       "<div class=\"ProgressiveImage_imageWrapper__me6ST\">\n",
       "<img alt=\"Casa à venda com 4 quartos, 300m² em Planalto Paulista, São Paulo\" class=\"ProgressiveImage_image__1QoR0\" fetchpriority=\"low\" loading=\"lazy\" sizes=\"\n",
       "(min-width: 1280px) 20vw,\n",
       "(min-width: 960px) 30vw,\n",
       "(min-width: 640px) 50vw,\n",
       "100vw\" src=\"/img/med/894622729-670.212509915655809cf76b9-c131-430c-85fe-c47580c96de7-LEAD3P-592cd4aa-56ff-4d45-9c54-5effdd4e484b.PNG\" srcset=\"/img/xsm/894622729-670.212509915655809cf76b9-c131-430c-85fe-c47580c96de7-LEAD3P-592cd4aa-56ff-4d45-9c54-5effdd4e484b.PNG 120w,/img/sml/894622729-670.212509915655809cf76b9-c131-430c-85fe-c47580c96de7-LEAD3P-592cd4aa-56ff-4d45-9c54-5effdd4e484b.PNG 300w,/img/med/894622729-670.212509915655809cf76b9-c131-430c-85fe-c47580c96de7-LEAD3P-592cd4aa-56ff-4d45-9c54-5effdd4e484b.PNG 450w,/img/lrg/894622729-670.212509915655809cf76b9-c131-430c-85fe-c47580c96de7-LEAD3P-592cd4aa-56ff-4d45-9c54-5effdd4e484b.PNG 600w,/img/xlg/894622729-670.212509915655809cf76b9-c131-430c-85fe-c47580c96de7-LEAD3P-592cd4aa-56ff-4d45-9c54-5effdd4e484b.PNG 840w,/img/xxl/894622729-670.212509915655809cf76b9-c131-430c-85fe-c47580c96de7-LEAD3P-592cd4aa-56ff-4d45-9c54-5effdd4e484b.PNG 1152w\"/>\n",
       "</div>\n",
       "</div>\n",
       "</div>\n",
       "<div class=\"swiper-slide\" style=\"width: 330px;\">\n",
       "<div aria-hidden=\"true\" aria-label=\"Foto 11 de 12\" class=\"Cozy__ImageCarouselItem-Wrapper HJY4vG\" id=\"10\" role=\"img\" tabindex=\"-1\">\n",
       "<div class=\"ProgressiveImage_imageWrapper__me6ST\">\n",
       "<img alt=\"Casa à venda com 4 quartos, 300m² em Planalto Paulista, São Paulo\" class=\"ProgressiveImage_image__1QoR0\" fetchpriority=\"low\" loading=\"lazy\" sizes=\"\n",
       "(min-width: 1280px) 20vw,\n",
       "(min-width: 960px) 30vw,\n",
       "(min-width: 640px) 50vw,\n",
       "100vw\" src=\"/img/med/894622729-264.983006309975409cf76b9-c131-430c-85fe-c47580c96de7-LEAD3P-686ae7c8-6e69-48a2-8fe6-084297a88c8a.PNG\" srcset=\"/img/xsm/894622729-264.983006309975409cf76b9-c131-430c-85fe-c47580c96de7-LEAD3P-686ae7c8-6e69-48a2-8fe6-084297a88c8a.PNG 120w,/img/sml/894622729-264.983006309975409cf76b9-c131-430c-85fe-c47580c96de7-LEAD3P-686ae7c8-6e69-48a2-8fe6-084297a88c8a.PNG 300w,/img/med/894622729-264.983006309975409cf76b9-c131-430c-85fe-c47580c96de7-LEAD3P-686ae7c8-6e69-48a2-8fe6-084297a88c8a.PNG 450w,/img/lrg/894622729-264.983006309975409cf76b9-c131-430c-85fe-c47580c96de7-LEAD3P-686ae7c8-6e69-48a2-8fe6-084297a88c8a.PNG 600w,/img/xlg/894622729-264.983006309975409cf76b9-c131-430c-85fe-c47580c96de7-LEAD3P-686ae7c8-6e69-48a2-8fe6-084297a88c8a.PNG 840w,/img/xxl/894622729-264.983006309975409cf76b9-c131-430c-85fe-c47580c96de7-LEAD3P-686ae7c8-6e69-48a2-8fe6-084297a88c8a.PNG 1152w\"/>\n",
       "</div>\n",
       "</div>\n",
       "</div>\n",
       "<div class=\"swiper-slide\" style=\"width: 330px;\">\n",
       "<div aria-hidden=\"true\" aria-label=\"Foto 12 de 12\" class=\"Cozy__ImageCarouselItem-Wrapper HJY4vG\" id=\"11\" role=\"img\" tabindex=\"-1\">\n",
       "<div class=\"ProgressiveImage_imageWrapper__me6ST\">\n",
       "<img alt=\"Casa à venda com 4 quartos, 300m² em Planalto Paulista, São Paulo\" class=\"ProgressiveImage_image__1QoR0\" fetchpriority=\"low\" loading=\"lazy\" sizes=\"\n",
       "(min-width: 1280px) 20vw,\n",
       "(min-width: 960px) 30vw,\n",
       "(min-width: 640px) 50vw,\n",
       "100vw\" src=\"/img/med/894622729-211.9693865234687609cf76b9-c131-430c-85fe-c47580c96de7-LEAD3P-02b248d4-cabc-4d16-a037-a7e2d4f08e24.PNG\" srcset=\"/img/xsm/894622729-211.9693865234687609cf76b9-c131-430c-85fe-c47580c96de7-LEAD3P-02b248d4-cabc-4d16-a037-a7e2d4f08e24.PNG 120w,/img/sml/894622729-211.9693865234687609cf76b9-c131-430c-85fe-c47580c96de7-LEAD3P-02b248d4-cabc-4d16-a037-a7e2d4f08e24.PNG 300w,/img/med/894622729-211.9693865234687609cf76b9-c131-430c-85fe-c47580c96de7-LEAD3P-02b248d4-cabc-4d16-a037-a7e2d4f08e24.PNG 450w,/img/lrg/894622729-211.9693865234687609cf76b9-c131-430c-85fe-c47580c96de7-LEAD3P-02b248d4-cabc-4d16-a037-a7e2d4f08e24.PNG 600w,/img/xlg/894622729-211.9693865234687609cf76b9-c131-430c-85fe-c47580c96de7-LEAD3P-02b248d4-cabc-4d16-a037-a7e2d4f08e24.PNG 840w,/img/xxl/894622729-211.9693865234687609cf76b9-c131-430c-85fe-c47580c96de7-LEAD3P-02b248d4-cabc-4d16-a037-a7e2d4f08e24.PNG 1152w\"/>\n",
       "</div>\n",
       "</div>\n",
       "</div>\n",
       "</div>\n",
       "<div class=\"Cozy__CarouselIndicator Cozy__CarouselIndicator--bullet yuJ8gi\">\n",
       "<div class=\"ZJxpCV\">\n",
       "<div style=\"overflow-x: hidden; max-width: 126px; padding: 0px 54px;\">\n",
       "<div class=\"react-swipeable-view-container\" style=\"flex-direction: row; transition: all; direction: ltr; display: flex; will-change: transform; transform: translate(-300%, 0px);\">\n",
       "<div aria-hidden=\"true\" data-swipeable=\"true\" style=\"width: 18px; flex-shrink: 0; overflow: auto; height: 18px;\">\n",
       "<button class=\"rewAzN\" tabindex=\"-1\" type=\"button\">\n",
       "<span class=\"Eue9DM UQjFaP O6VGTm\">\n",
       "</span>\n",
       "</button>\n",
       "</div>\n",
       "<div aria-hidden=\"true\" data-swipeable=\"true\" style=\"width: 18px; flex-shrink: 0; overflow: auto; height: 18px;\">\n",
       "<button class=\"rewAzN\" tabindex=\"-1\" type=\"button\">\n",
       "<span class=\"Eue9DM O6VGTm\">\n",
       "</span>\n",
       "</button>\n",
       "</div>\n",
       "<div aria-hidden=\"true\" data-swipeable=\"true\" style=\"width: 18px; flex-shrink: 0; overflow: auto; height: 18px;\">\n",
       "<button class=\"rewAzN\" tabindex=\"-1\" type=\"button\">\n",
       "<span class=\"Eue9DM O6VGTm\">\n",
       "</span>\n",
       "</button>\n",
       "</div>\n",
       "<div aria-hidden=\"false\" data-swipeable=\"true\" style=\"width: 18px; flex-shrink: 0; overflow: auto; height: 18px;\">\n",
       "<button class=\"rewAzN\" tabindex=\"-1\" type=\"button\">\n",
       "<span class=\"Eue9DM O6VGTm\">\n",
       "</span>\n",
       "</button>\n",
       "</div>\n",
       "<div aria-hidden=\"true\" data-swipeable=\"true\" style=\"width: 18px; flex-shrink: 0; overflow: auto; height: 18px;\">\n",
       "<button class=\"rewAzN\" tabindex=\"-1\" type=\"button\">\n",
       "<span class=\"Eue9DM O6VGTm\">\n",
       "</span>\n",
       "</button>\n",
       "</div>\n",
       "<div aria-hidden=\"true\" data-swipeable=\"true\" style=\"width: 18px; flex-shrink: 0; overflow: auto; height: 18px;\">\n",
       "<button class=\"rewAzN\" tabindex=\"-1\" type=\"button\">\n",
       "<span class=\"Eue9DM O6VGTm\">\n",
       "</span>\n",
       "</button>\n",
       "</div>\n",
       "<div aria-hidden=\"true\" data-swipeable=\"true\" style=\"width: 18px; flex-shrink: 0; overflow: auto; height: 18px;\">\n",
       "<button class=\"rewAzN\" tabindex=\"-1\" type=\"button\">\n",
       "<span class=\"Eue9DM O6VGTm H3LQxL\">\n",
       "</span>\n",
       "</button>\n",
       "</div>\n",
       "<div aria-hidden=\"true\" data-swipeable=\"true\" style=\"width: 18px; flex-shrink: 0; overflow: auto; height: 18px;\">\n",
       "<button class=\"rewAzN\" tabindex=\"-1\" type=\"button\">\n",
       "<span class=\"Eue9DM O6VGTm\">\n",
       "</span>\n",
       "</button>\n",
       "</div>\n",
       "<div aria-hidden=\"true\" data-swipeable=\"true\" style=\"width: 18px; flex-shrink: 0; overflow: auto; height: 18px;\">\n",
       "<button class=\"rewAzN\" tabindex=\"-1\" type=\"button\">\n",
       "<span class=\"Eue9DM O6VGTm\">\n",
       "</span>\n",
       "</button>\n",
       "</div>\n",
       "<div aria-hidden=\"true\" data-swipeable=\"true\" style=\"width: 18px; flex-shrink: 0; overflow: auto; height: 18px;\">\n",
       "<button class=\"rewAzN\" tabindex=\"-1\" type=\"button\">\n",
       "<span class=\"Eue9DM O6VGTm\">\n",
       "</span>\n",
       "</button>\n",
       "</div>\n",
       "<div aria-hidden=\"true\" data-swipeable=\"true\" style=\"width: 18px; flex-shrink: 0; overflow: auto; height: 18px;\">\n",
       "<button class=\"rewAzN\" tabindex=\"-1\" type=\"button\">\n",
       "<span class=\"Eue9DM O6VGTm\">\n",
       "</span>\n",
       "</button>\n",
       "</div>\n",
       "<div aria-hidden=\"true\" data-swipeable=\"true\" style=\"width: 18px; flex-shrink: 0; overflow: auto; height: 18px;\">\n",
       "<button class=\"rewAzN\" tabindex=\"-1\" type=\"button\">\n",
       "<span class=\"Eue9DM O6VGTm\">\n",
       "</span>\n",
       "</button>\n",
       "</div>\n",
       "</div>\n",
       "</div>\n",
       "</div>\n",
       "</div>\n",
       "<div class=\"Cozy__CarouselNavigation Cozy__CarouselNavigation-Wrapper Cozy__CarouselNavigation--with-bullet Cozy__CarouselNavigation--onHover YuPWFX\" slot=\"container-end\" style=\"--carousel-navigation-height: 234px; --carousel-navigation-width: 352px;\">\n",
       "<div class=\"Cozy-TooltipTriggerWrapper Cozy__CarouselNavigation-Button-Back-Wrapper qWDeCu\" style=\"--height: 40px; --width: 40px;\">\n",
       "<button aria-label=\"Foto anterior\" class=\"Cozy-IconButton _3ix-Yq t-OJVR GwkdD-\" disabled=\"\" tabindex=\"-1\" type=\"button\">\n",
       "<svg aria-hidden=\"true\" class=\"MuiSvgIcon-root MuiSvgIcon-fontSizeMedium Cozy__Icon Cozy__Icon--medium mui-1u1ct0h\" fill=\"none\" focusable=\"false\" title=\"IconButton Icon\" viewbox=\"0 0 24 24\">\n",
       "<path d=\"M14.845 4.7197L7.5647 12l7.2803 7.2804 1.0607-1.0607L9.686 12l6.2197-6.2196-1.0607-1.0607z\" fill=\"currentColor\">\n",
       "</path>\n",
       "</svg>\n",
       "</button>\n",
       "</div>\n",
       "<div class=\"Cozy-TooltipTriggerWrapper Cozy__CarouselNavigation-Button-Forward-Wrapper qWDeCu\" style=\"--height: 40px; --width: 40px;\">\n",
       "<button aria-label=\"Próxima foto\" class=\"Cozy-IconButton _3ix-Yq t-OJVR GwkdD-\" tabindex=\"0\" type=\"button\">\n",
       "<svg aria-hidden=\"true\" class=\"MuiSvgIcon-root MuiSvgIcon-fontSizeMedium Cozy__Icon Cozy__Icon--medium mui-1u1ct0h\" fill=\"none\" focusable=\"false\" title=\"IconButton Icon\" viewbox=\"0 0 24 24\">\n",
       "<path d=\"M9.155 19.7803L16.4354 12.5 9.155 5.2197 8.0944 6.2803 14.314 12.5l-6.2196 6.2197 1.0606 1.0606z\" fill=\"currentColor\">\n",
       "</path>\n",
       "</svg>\n",
       "</button>\n",
       "</div>\n",
       "</div>\n",
       "<div style=\"display: none;\">\n",
       "</div>\n",
       "</div>\n",
       "</div>\n",
       "</div>\n",
       "</div>\n",
       "</div>\n",
       "</div>\n",
       "<div class=\"Cozy__FindHouseCard-Price Cozy__CardRow-Container oVdjIf\" role=\"complementary\" style=\"--card-row-top: var(--tokens-alias-spacing-hsmall); --card-row-bottom: 0; --card-row-left: 0; --card-row-right: 0; --card-row-space-between: 0;\">\n",
       "<div class=\"Cozy__CardTitle-Container OmcJEZ\">\n",
       "<div class=\"Zkjoo-\">\n",
       "<h2 class=\"Cozy__CardTitle-Metadata Dg2zLY\">\n",
       "                  Casa\n",
       "                 </h2>\n",
       "<div class=\"zgZ-pt\">\n",
       "<div class=\"qDmGrq\">\n",
       "<div class=\"Cozy__CardTitle-Title hFUhPy\">\n",
       "<h3 class=\"CozyTypography xih2fc EKXjIf EqjlRj\">\n",
       "                     R$ 750.000\n",
       "                     <span class=\"CozyTypography xih2fc Bm9DLt A68t3o\">\n",
       "</span>\n",
       "</h3>\n",
       "</div>\n",
       "<div class=\"Cozy__CardTitle-Subtitle JyjznE\">\n",
       "<h3 class=\"CozyTypography xih2fc _72Hu5c Ci-jp3\">\n",
       "                     R$ 0 Condo. + IPTU\n",
       "                    </h3>\n",
       "</div>\n",
       "</div>\n",
       "</div>\n",
       "</div>\n",
       "<div class=\"Cozy__CardTitle-ActionIcon\">\n",
       "<div class=\"Cozy-TooltipTriggerWrapper qWDeCu\" style=\"--height: 40px; --width: 40px;\">\n",
       "<button class=\"Cozy-IconButton _3ix-Yq t-OJVR sUx1GL\" tabindex=\"0\" type=\"button\">\n",
       "<svg aria-hidden=\"true\" class=\"MuiSvgIcon-root MuiSvgIcon-fontSizeMedium Cozy__Icon Cozy__Icon--medium mui-1u1ct0h\" fill=\"none\" focusable=\"false\" title=\"IconButton Icon\" viewbox=\"0 0 24 24\">\n",
       "<path clip-rule=\"evenodd\" d=\"M11.9996 22.6435L2.7824 12.0297l-.0083-.0102c-1.3879-1.7163-1.6654-4.1336-.7167-6.144 1.6879-3.579 6.3162-4.2343 8.831-1.1875l1.1115 1.3465 1.1116-1.3465c2.5147-3.0466 7.144-2.3917 8.8311 1.1877.9486 2.0103.671 4.4274-.7159 6.1436l-.0083.0103-9.2188 10.6139zm-8.067-11.577l8.0677 9.29 8.0677-9.29c1.0128-1.2612 1.2231-3.0567.5179-4.551-1.2347-2.6195-4.5275-3.0414-6.3175-.8727l-2.2685 2.7478-2.2683-2.7477c-1.79-2.1687-5.082-1.7475-6.3175.8724-.7052 1.4943-.495 3.29.5185 4.5512z\" fill=\"currentColor\" fill-rule=\"evenodd\">\n",
       "</path>\n",
       "</svg>\n",
       "</button>\n",
       "</div>\n",
       "</div>\n",
       "</div>\n",
       "</div>\n",
       "<div class=\"Cozy__CardRow-Container oVdjIf\" role=\"presentation\" style=\"--card-row-top: var(--tokens-alias-spacing-hsmall); --card-row-bottom: var(--tokens-alias-spacing-hsmall); --card-row-left: 0; --card-row-right: 0; --card-row-space-between: 0;\">\n",
       "<div class=\"Cozy__CardContent-Container XBxUCJ\">\n",
       "<h3 class=\"CozyTypography o6Ojuq xih2fc EKXjIf A68t3o\" style=\"--height: 24px;\">\n",
       "                 300 m² · 4 quartos · 2 vagas\n",
       "                </h3>\n",
       "<h2 class=\"CozyTypography xih2fc _72Hu5c Ci-jp3\" style=\"--address-text-padding: 0;\">\n",
       "                 Alameda dos Quinimuras, Planalto Paulista · São Paulo\n",
       "                </h2>\n",
       "</div>\n",
       "</div>\n",
       "</div>\n",
       "</div>\n",
       "</a>\n",
       "</div>"
      ]
     },
     "execution_count": 14,
     "metadata": {},
     "output_type": "execute_result"
    }
   ],
   "source": [
    "soup = BeautifulSoup(moema, 'html.parser')\n",
    "casas = soup.find_all(attrs={\"data-testid\": \"house-card-container\"})\n",
    "casas[0]"
   ]
  },
  {
   "cell_type": "code",
   "execution_count": 82,
   "metadata": {},
   "outputs": [
    {
     "data": {
      "text/plain": [
       "'Alameda dos Quinimuras'"
      ]
     },
     "execution_count": 82,
     "metadata": {},
     "output_type": "execute_result"
    }
   ],
   "source": [
    "rua = casas[0].find(\"div\", class_=\"Cozy__FindHouseCard-Container\").text\n",
    "rua = rua.split(\"São Paulo\")[0].split('\\n\\n')[-1].lstrip()\n",
    "rua = rua.split(\",\")[0]\n",
    "rua"
   ]
  },
  {
   "cell_type": "code",
   "execution_count": 93,
   "metadata": {},
   "outputs": [],
   "source": [
    "def find_rua_imovel(imovel):\n",
    "    rua = imovel.find(\"div\", class_=\"Cozy__FindHouseCard-Container\").text\n",
    "    rua = rua.split(\"São Paulo\")[0].split('\\n\\n')[-1].lstrip()\n",
    "    rua = rua.split(\",\")[0]\n",
    "    return rua"
   ]
  },
  {
   "cell_type": "code",
   "execution_count": 34,
   "metadata": {},
   "outputs": [
    {
     "data": {
      "text/plain": [
       "'750000'"
      ]
     },
     "execution_count": 34,
     "metadata": {},
     "output_type": "execute_result"
    }
   ],
   "source": [
    "valor = casas[0].find(\"div\", class_=\"Cozy__FindHouseCard-Container\").text\n",
    "valor = valor.split(\"R$\")[1]\n",
    "valor = re.sub(r'\\D', '', valor)\n",
    "valor"
   ]
  },
  {
   "cell_type": "code",
   "execution_count": 33,
   "metadata": {},
   "outputs": [
    {
     "data": {
      "text/plain": [
       "'300'"
      ]
     },
     "execution_count": 33,
     "metadata": {},
     "output_type": "execute_result"
    }
   ],
   "source": [
    "img_tag = casas[0].find('img', class_='ProgressiveImage_image__1QoR0')\n",
    "alt_text = img_tag['alt']\n",
    "alt_text = alt_text.split(\"m²\")[0].split(\" \")\n",
    "alt_text[-1]\n"
   ]
  },
  {
   "cell_type": "code",
   "execution_count": 39,
   "metadata": {},
   "outputs": [],
   "source": [
    "def find_preco_imovel(imovel):\n",
    "    valor = imovel.find(\"div\", class_=\"Cozy__FindHouseCard-Container\").text\n",
    "    valor = valor.split(\"R$\")[1]\n",
    "    return re.sub(r'\\D', '', valor)"
   ]
  },
  {
   "cell_type": "code",
   "execution_count": 40,
   "metadata": {},
   "outputs": [
    {
     "data": {
      "text/plain": [
       "'750000'"
      ]
     },
     "execution_count": 40,
     "metadata": {},
     "output_type": "execute_result"
    }
   ],
   "source": [
    "find_preco_imovel(casas[0])"
   ]
  },
  {
   "cell_type": "code",
   "execution_count": 41,
   "metadata": {},
   "outputs": [],
   "source": [
    "def find_m2_imovel(imovel):\n",
    "    img_tag = imovel.find('img', class_='ProgressiveImage_image__1QoR0')\n",
    "    alt_text = img_tag['alt']\n",
    "    alt_text = alt_text.split(\"m²\")[0].split(\" \")\n",
    "    return alt_text[-1]\n",
    "    "
   ]
  },
  {
   "cell_type": "code",
   "execution_count": 25,
   "metadata": {},
   "outputs": [
    {
     "data": {
      "text/plain": [
       "'300'"
      ]
     },
     "execution_count": 25,
     "metadata": {},
     "output_type": "execute_result"
    }
   ],
   "source": [
    "find_m2_imovel(casas[0])"
   ]
  },
  {
   "cell_type": "code",
   "execution_count": 44,
   "metadata": {},
   "outputs": [
    {
     "name": "stdout",
     "output_type": "stream",
     "text": [
      "Preco: 750000\n",
      "m2: 300\n",
      "----------\n",
      "Preco: 630000\n",
      "m2: 144\n",
      "----------\n",
      "Preco: 387000\n",
      "m2: 50\n",
      "----------\n",
      "Preco: 800000\n",
      "m2: 131\n",
      "----------\n",
      "Preco: 660000\n",
      "m2: 90\n",
      "----------\n",
      "Preco: 799000\n",
      "m2: 120\n",
      "----------\n",
      "Preco: 720000\n",
      "m2: 160\n",
      "----------\n",
      "Preco: 610000\n",
      "m2: 95\n",
      "----------\n",
      "Preco: 780000\n",
      "m2: 140\n",
      "----------\n",
      "Preco: 460000\n",
      "m2: 96\n",
      "----------\n",
      "Preco: 450000\n",
      "m2: 69\n",
      "----------\n",
      "Preco: 800000\n",
      "m2: 120\n",
      "----------\n",
      "Preco: 599000\n",
      "m2: 128\n",
      "----------\n",
      "Preco: 600000\n",
      "m2: 86\n",
      "----------\n",
      "Preco: 335000\n",
      "m2: 27\n",
      "----------\n",
      "Preco: 399000\n",
      "m2: 60\n",
      "----------\n",
      "Preco: 450000\n",
      "m2: 69\n",
      "----------\n",
      "Preco: 800000\n",
      "m2: 150\n",
      "----------\n",
      "Preco: 460000\n",
      "m2: 96\n",
      "----------\n",
      "Preco: 799000\n",
      "m2: 120\n",
      "----------\n",
      "Preco: 535000\n",
      "m2: 120\n",
      "----------\n",
      "Preco: 870000\n",
      "m2: 220\n",
      "----------\n",
      "Preco: 200000\n",
      "m2: 18\n",
      "----------\n",
      "Preco: 2498000\n",
      "m2: 350\n",
      "----------\n",
      "Preco: 1240000\n",
      "m2: 130\n",
      "----------\n",
      "Preco: 426000\n",
      "m2: 58\n",
      "----------\n",
      "Preco: 549000\n",
      "m2: 92\n",
      "----------\n",
      "Preco: 630000\n",
      "m2: 144\n",
      "----------\n",
      "Preco: 1450000\n",
      "m2: 160\n",
      "----------\n",
      "Preco: 1540000\n",
      "m2: 430\n",
      "----------\n"
     ]
    }
   ],
   "source": [
    "for i in range(0, 30):\n",
    "    print(\"Preco: \" + find_preco_imovel(casas[i]))\n",
    "    print(\"m2: \" + find_m2_imovel(casas[i]))\n",
    "    print(\"-\"*10)"
   ]
  },
  {
   "cell_type": "code",
   "execution_count": 45,
   "metadata": {},
   "outputs": [],
   "source": [
    "import sqlite3"
   ]
  },
  {
   "cell_type": "code",
   "execution_count": 86,
   "metadata": {},
   "outputs": [],
   "source": [
    "conn = sqlite3.connect('data.db')\n",
    "cursor = conn.cursor()"
   ]
  },
  {
   "cell_type": "code",
   "execution_count": 87,
   "metadata": {},
   "outputs": [
    {
     "data": {
      "text/plain": [
       "<sqlite3.Cursor at 0x18a414307a0>"
      ]
     },
     "execution_count": 87,
     "metadata": {},
     "output_type": "execute_result"
    }
   ],
   "source": [
    "cursor.execute('''\n",
    "CREATE TABLE IF NOT EXISTS data (\n",
    "    id INTEGER PRIMARY KEY AUTOINCREMENT,\n",
    "    cep TEXT NOT NULL,\n",
    "    rua TEXT NOT NULL,\n",
    "    bairro TEXT NOT NULL,\n",
    "    cidade TEXT NOT NULL,\n",
    "    estado TEXT NOT NULL,\n",
    "    regiao TEXT NOT NULL,\n",
    "    preco FLOAT NOT NULL,\n",
    "    m2 FLOAT NOT NULL,\n",
    "    preco_m2 FLOAT NOT NULL\n",
    ")\n",
    "''')"
   ]
  },
  {
   "cell_type": "code",
   "execution_count": 89,
   "metadata": {},
   "outputs": [],
   "source": [
    "def add_data(cep, rua, bairro, cidade, estado, regiao, preco, m2, preco_m2):\n",
    "    cursor.execute('''\n",
    "    INSERT INTO data (cep, rua, bairro, cidade, estado, regiao, preco, m2, preco_m2) VALUES (?, ?, ?, ?, ?, ?, ?, ?, ?)\n",
    "    ''', (cep, rua, bairro, cidade, estado, regiao, preco, m2, preco_m2))\n",
    "    conn.commit()"
   ]
  },
  {
   "cell_type": "code",
   "execution_count": 49,
   "metadata": {},
   "outputs": [],
   "source": [
    "def remove_data(id):\n",
    "    cursor.execute('''\n",
    "    DELETE FROM data WHERE id = ?\n",
    "    ''', (id,))\n",
    "    conn.commit()"
   ]
  },
  {
   "cell_type": "code",
   "execution_count": 50,
   "metadata": {},
   "outputs": [],
   "source": [
    "def get_id(cep):\n",
    "    cursor.execute('''\n",
    "    SELECT id FROM data WHERE cep = ?\n",
    "    ''', (cep,))\n",
    "    data = cursor.fetchall()\n",
    "    return data"
   ]
  },
  {
   "cell_type": "code",
   "execution_count": 97,
   "metadata": {},
   "outputs": [],
   "source": [
    "def extract_data(cep):\n",
    "    dados = getDadosCEP(cep)\n",
    "    bairro = dados['bairro']\n",
    "    cidade = dados['localidade']\n",
    "    estado = dados['uf']\n",
    "    regiao = dados['regiao']\n",
    "    bairro = bairro.replace(\" \", \"-\").lower()\n",
    "    soup = scraper(bairro)\n",
    "    soup = BeautifulSoup(soup, 'html.parser')\n",
    "    casas = soup.find_all(attrs={\"data-testid\": \"house-card-container\"})\n",
    "    for casa in casas:\n",
    "        preco = find_preco_imovel(casa)\n",
    "        m2 = find_m2_imovel(casa)\n",
    "        rua = find_rua_imovel(casa)\n",
    "        preco_m2 = float(preco) / float(m2)\n",
    "        \n",
    "        # Check if the data already exists\n",
    "        cursor.execute('''\n",
    "        SELECT id FROM data \n",
    "        WHERE cep = ? AND bairro = ? AND preco = ? AND m2 = ?\n",
    "        ''', (cep, bairro, preco, m2))\n",
    "        \n",
    "        if cursor.fetchone() is None:\n",
    "            # Data doesn't exist, so insert it\n",
    "            add_data(cep, rua, bairro, cidade, estado, regiao, preco, m2, preco_m2)"
   ]
  },
  {
   "cell_type": "code",
   "execution_count": 101,
   "metadata": {},
   "outputs": [],
   "source": [
    "extract_data(\"04078012\")"
   ]
  },
  {
   "cell_type": "code",
   "execution_count": 52,
   "metadata": {},
   "outputs": [],
   "source": [
    "def delete_all():\n",
    "    cursor.execute('''\n",
    "    DELETE FROM data\n",
    "    ''')\n",
    "    conn.commit()"
   ]
  },
  {
   "cell_type": "code",
   "execution_count": 95,
   "metadata": {},
   "outputs": [],
   "source": [
    "# delete_all()\n",
    "# Limpar banco de dados para teste "
   ]
  },
  {
   "cell_type": "code",
   "execution_count": 66,
   "metadata": {},
   "outputs": [
    {
     "data": {
      "text/plain": [
       "[('planalto-paulista', 7625.514712091567)]"
      ]
     },
     "execution_count": 66,
     "metadata": {},
     "output_type": "execute_result"
    }
   ],
   "source": [
    "def precos_medios():\n",
    "    cursor.execute('''\n",
    "    SELECT bairro, AVG(preco_m2) AS preco_medio_m2\n",
    "    FROM data\n",
    "    GROUP BY bairro\n",
    "    ''')\n",
    "    return cursor.fetchall()"
   ]
  },
  {
   "cell_type": "code",
   "execution_count": 105,
   "metadata": {},
   "outputs": [],
   "source": [
    "extract_data(\"04119010\")"
   ]
  },
  {
   "cell_type": "code",
   "execution_count": 111,
   "metadata": {},
   "outputs": [
    {
     "data": {
      "text/plain": [
       "[('moema', 15195.022755120612),\n",
       " ('planalto-paulista', 7702.220294383596),\n",
       " ('vila-mariana', 1678897.5215833574)]"
      ]
     },
     "execution_count": 111,
     "metadata": {},
     "output_type": "execute_result"
    }
   ],
   "source": [
    "precos_medios()"
   ]
  },
  {
   "cell_type": "code",
   "execution_count": 112,
   "metadata": {},
   "outputs": [
    {
     "name": "stdout",
     "output_type": "stream",
     "text": [
      "Bairro: moema - Preço médio por m²: R$15195.02\n",
      "Bairro: planalto-paulista - Preço médio por m²: R$7702.22\n",
      "Bairro: vila-mariana - Preço médio por m²: R$1678897.52\n"
     ]
    }
   ],
   "source": [
    "for bairro, preco_medio_m2 in precos_medios():\n",
    "    print(f\"Bairro: {bairro} - Preço médio por m²: R${preco_medio_m2:.2f}\")"
   ]
  },
  {
   "cell_type": "code",
   "execution_count": null,
   "metadata": {},
   "outputs": [],
   "source": []
  }
 ],
 "metadata": {
  "kernelspec": {
   "display_name": "base",
   "language": "python",
   "name": "python3"
  },
  "language_info": {
   "codemirror_mode": {
    "name": "ipython",
    "version": 3
   },
   "file_extension": ".py",
   "mimetype": "text/x-python",
   "name": "python",
   "nbconvert_exporter": "python",
   "pygments_lexer": "ipython3",
   "version": "3.9.19"
  }
 },
 "nbformat": 4,
 "nbformat_minor": 2
}
